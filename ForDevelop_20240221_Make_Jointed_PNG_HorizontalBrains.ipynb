{
 "cells": [
  {
   "cell_type": "markdown",
   "id": "2de56d73",
   "metadata": {
    "toc": true
   },
   "source": [
    "<h1>Table of Contents<span class=\"tocSkip\"></span></h1>\n",
    "<div class=\"toc\"><ul class=\"toc-item\"><li><span><a href=\"#Generate-Guide-Area-PNG-(West,-1行タイプ)\" data-toc-modified-id=\"Generate-Guide-Area-PNG-(West,-1行タイプ)-1\"><span class=\"toc-item-num\">1&nbsp;&nbsp;</span>Generate Guide Area PNG (West, 1行タイプ)</a></span></li><li><span><a href=\"#Generate-Guide-Area-PNG-(North,-2行タイプ)\" data-toc-modified-id=\"Generate-Guide-Area-PNG-(North,-2行タイプ)-2\"><span class=\"toc-item-num\">2&nbsp;&nbsp;</span>Generate Guide Area PNG (North, 2行タイプ)</a></span></li><li><span><a href=\"#Generate-Guide-Area-PNG-(North,-Right-Left-Lat-Med)\" data-toc-modified-id=\"Generate-Guide-Area-PNG-(North,-Right-Left-Lat-Med)-3\"><span class=\"toc-item-num\">3&nbsp;&nbsp;</span>Generate Guide Area PNG (North, Right-Left-Lat-Med)</a></span></li><li><span><a href=\"#Join-Guide-Areas-and-Vertical-Brain-Areas\" data-toc-modified-id=\"Join-Guide-Areas-and-Vertical-Brain-Areas-4\"><span class=\"toc-item-num\">4&nbsp;&nbsp;</span>Join Guide Areas and Vertical Brain Areas</a></span></li></ul></div>"
   ]
  },
  {
   "cell_type": "markdown",
   "id": "934314f4",
   "metadata": {},
   "source": [
    "## Generate Guide Area PNG (West, 1行タイプ)"
   ]
  },
  {
   "cell_type": "code",
   "execution_count": 6,
   "id": "1b0981cf",
   "metadata": {
    "ExecuteTime": {
     "end_time": "2024-02-22T00:42:49.826215Z",
     "start_time": "2024-02-22T00:42:49.776466Z"
    }
   },
   "outputs": [
    {
     "name": "stdout",
     "output_type": "stream",
     "text": [
      "PNG ファイルCT_for_Horizontal.pngが作成されました。\n",
      "PNG ファイルSA_for_Horizontal.pngが作成されました。\n",
      "PNG ファイルOT_for_Horizontal.pngが作成されました。\n",
      "PNG ファイルEmpty_for_Horizontal.pngが作成されました。\n"
     ]
    }
   ],
   "source": [
    "def generate1TextLinePng(text1, filename): \n",
    "    \n",
    "    from PIL import Image, ImageDraw, ImageFont\n",
    "\n",
    "    # Create a blank white image\n",
    "    width, height = 300, 781\n",
    "    image = Image.new(\"RGB\", (width, height), \"white\")\n",
    "\n",
    "    # Initialize the drawing context\n",
    "    draw = ImageDraw.Draw(image)\n",
    "\n",
    "    # Specify the font and size\n",
    "    font_path = \"/usr/share/fonts/truetype/dejavu/DejaVuSans.ttf\"\n",
    "    font_size = 96\n",
    "    font = ImageFont.truetype(font_path, font_size)\n",
    "\n",
    "    # Specify the text and position\n",
    "    #text = \"26 to 46 years\"\n",
    "    text = text1\n",
    "    \n",
    "    # テキストのサイズを取得\n",
    "    text_width, text_height = draw.textsize(text, font=font)\n",
    "\n",
    "    # テキストの位置を中央に調整\n",
    "    x = (width - text_width) // 2\n",
    "    y = (height - text_height) // 2\n",
    "\n",
    "    text_position = (x, y)\n",
    "\n",
    "    # Draw the text on the image\n",
    "    draw.text(text_position, text, fill=\"black\", font=font)\n",
    "\n",
    "    # Save the image as a PNG file\n",
    "    #file_name = \"26_to_46_y.o..png\"\n",
    "    image.save(\"./png/supporting_files/\"+ filename)\n",
    "\n",
    "    print(\"PNG ファイル\" + filename + \"が作成されました。\")\n",
    "\n",
    "generate1TextLinePng(\"CT\", \"CT_for_Horizontal.png\")\n",
    "generate1TextLinePng(\"SA\", \"SA_for_Horizontal.png\")\n",
    "generate1TextLinePng(\"OT\", \"OT_for_Horizontal.png\")"
   ]
  },
  {
   "cell_type": "markdown",
   "id": "a1e862bd",
   "metadata": {},
   "source": [
    "##  Generate Guide Area PNG (North, 2行タイプ)"
   ]
  },
  {
   "cell_type": "code",
   "execution_count": 13,
   "id": "a9f9750b",
   "metadata": {
    "ExecuteTime": {
     "end_time": "2024-02-22T01:03:16.294951Z",
     "start_time": "2024-02-22T01:03:16.279619Z"
    },
    "code_folding": []
   },
   "outputs": [
    {
     "name": "stdout",
     "output_type": "stream",
     "text": [
      "PNG ファイルEmpty_for_Horizontal.pngが作成されました。\n"
     ]
    }
   ],
   "source": [
    "def generate2TextLinePng(text1, text2, filename): \n",
    "\n",
    "    from PIL import Image, ImageDraw, ImageFont\n",
    "\n",
    "    # Create a blank white image\n",
    "    width, height = 300, 390\n",
    "    image = Image.new(\"RGB\", (width, height), \"white\")\n",
    "\n",
    "    # Initialize the drawing context\n",
    "    draw = ImageDraw.Draw(image)\n",
    "\n",
    "    # Specify the font and size\n",
    "    font_path = \"/usr/share/fonts/truetype/dejavu/DejaVuSans.ttf\"\n",
    "    font_size = 96\n",
    "    font = ImageFont.truetype(font_path, font_size)\n",
    "\n",
    "    # Specify the text and position\n",
    "    text1 = text1\n",
    "    text2 = text2\n",
    "\n",
    "    # テキストのサイズを取得\n",
    "    text1_width, text1_height = draw.textsize(text1, font=font)\n",
    "    text2_width, text2_height = draw.textsize(text2, font=font)\n",
    "\n",
    "    # テキストの位置を中央に調整\n",
    "    x1 = (width - text1_width) // 2\n",
    "    y1 = (height - text1_height - text2_height) // 2\n",
    "    x2 = (width - text2_width) // 2\n",
    "    y2 = y1 + text1_height\n",
    "\n",
    "    # テキストを描画\n",
    "    draw.text((x1, y1), text1, font=font, fill='black')\n",
    "    draw.text((x2, y2), text2, font=font, fill='black')\n",
    "\n",
    "    # Save the image as a PNG file\n",
    "    #file_name = \"26_to_46_y.o..png\"\n",
    "    \n",
    "    image.save(\"./png/supporting_files/\"+ filename)\n",
    "\n",
    "    print(\"PNG ファイル\" + filename + \"が作成されました。\")\n",
    "    \n",
    "generate2TextLinePng(\"\", \"\", \"Empty_for_Horizontal.png\")"
   ]
  },
  {
   "cell_type": "markdown",
   "id": "96ae9293",
   "metadata": {},
   "source": [
    "## Generate Guide Area PNG (North, Right-Left-Lat-Med)"
   ]
  },
  {
   "cell_type": "code",
   "execution_count": 4,
   "id": "abf307ac",
   "metadata": {
    "ExecuteTime": {
     "end_time": "2024-02-22T00:39:18.397050Z",
     "start_time": "2024-02-22T00:39:18.319349Z"
    },
    "scrolled": false
   },
   "outputs": [
    {
     "name": "stdout",
     "output_type": "stream",
     "text": [
      "PNG ファイルHorizontal_Right_Left_Lat_Med.pngが作成されました。\n"
     ]
    }
   ],
   "source": [
    "from PIL import Image, ImageDraw, ImageFont\n",
    "\n",
    "# Create a blank white image\n",
    "width, height = 938*4, 390\n",
    "image = Image.new(\"RGB\", (width, height), \"white\")\n",
    "\n",
    "# Initialize the drawing context\n",
    "draw = ImageDraw.Draw(image)\n",
    "\n",
    "# Specify the font and size\n",
    "font_path = \"/usr/share/fonts/truetype/dejavu/DejaVuSans.ttf\"\n",
    "font_size = 96\n",
    "font = ImageFont.truetype(font_path, font_size)\n",
    "\n",
    "# Specify the text and position\n",
    "text_lat = \"Lat.\"\n",
    "text_med = \"Med.\"\n",
    "text_right = \"Right\"\n",
    "text_left = \"Left\"\n",
    "\n",
    "# テキストのサイズを取得\n",
    "text_lat_width, text_lat_height = draw.textsize(text_lat, font=font)\n",
    "text_med_width, text_med_height = draw.textsize(text_med, font=font)\n",
    "text_right_width, text_right_height = draw.textsize(text_right, font=font)\n",
    "text_left_width, text_left_height = draw.textsize(text_left, font=font)\n",
    "\n",
    "# テキストの位置を中央に調整\n",
    "x1 = width//4 * 1 - text_right_width//2\n",
    "y1 = height//3 * 1 - text_right_height//2\n",
    "x2 = width//4 * 3 - text_left_width//2\n",
    "y2 = height//3 * 1 - text_left_height//2\n",
    "x3 = width//8 * 1 - text_lat_width//2\n",
    "y3 = height//3 * 2 - text_lat_height//2\n",
    "x4 = width//8 * 3 - text_med_width//2\n",
    "y4 = height//3 * 2 - text_med_height//2\n",
    "x5 = width//8 * 5 - text_lat_width//2\n",
    "y5 = height//3 * 2 - text_lat_height//2\n",
    "x6 = width//8 * 7 - text_med_width//2\n",
    "y6 = height//3 * 2 - text_med_height//2\n",
    "\n",
    "# テキストを描画\n",
    "draw.text((x1, y1), text_right, font=font, fill='black')\n",
    "draw.text((x2, y2), text_left, font=font, fill='black')\n",
    "draw.text((x3, y3), text_lat, font=font, fill='black')\n",
    "draw.text((x4, y4), text_med, font=font, fill='black')\n",
    "draw.text((x5, y5), text_med, font=font, fill='black')\n",
    "draw.text((x6, y6), text_lat, font=font, fill='black')\n",
    "\n",
    "# Save the image as a PNG file\n",
    "file_name = \"Horizontal_Right_Left_Lat_Med.png\"\n",
    "image.save(\"./png/supporting_files/\"+ file_name)\n",
    "\n",
    "print(\"PNG ファイル\" + file_name + \"が作成されました。\")\n"
   ]
  },
  {
   "cell_type": "markdown",
   "id": "fc7796c2",
   "metadata": {},
   "source": [
    "## Join Guide Areas and Vertical Brain Areas"
   ]
  },
  {
   "cell_type": "code",
   "execution_count": 21,
   "id": "b9921d00",
   "metadata": {
    "ExecuteTime": {
     "end_time": "2024-02-22T01:55:39.968418Z",
     "start_time": "2024-02-22T01:55:38.755046Z"
    }
   },
   "outputs": [],
   "source": [
    "#\n",
    "#  EmptyPNG   NorthPNG  \n",
    "#  CT_PNG     HorBrains1\n",
    "#  SA_PNG     HorBrains2\n",
    "#  OT_PNG     HorBrains3\n",
    "#\n",
    "\n",
    "EmptyPNG = \"./png/supporting_files/Empty_for_Horizontal.png\"\n",
    "CT_PNG = \"./png/supporting_files/CT_for_Horizontal.png\"\n",
    "SA_PNG = \"./png/supporting_files/SA_for_Horizontal.png\"\n",
    "OT_PNG = \"./png/supporting_files/OT_for_Horizontal.png\"\n",
    "NorthPNG = \"./png/supporting_files/Horizontal_Right_Left_Lat_Med.png\"\n",
    "\n",
    "#text = \"RC 16to66\"\n",
    "#HorBrains1 = \"./png/16to66Anl/ImpactOfNeuroimagingPhenotypesOnBrainAgeEstimation_CT_16to66_RegressionCoefficient.png\"\n",
    "#HorBrains2 = \"./png/16to66Anl/ImpactOfNeuroimagingPhenotypesOnBrainAgeEstimation_SA_16to66_RegressionCoefficient.png\"\n",
    "#HorBrains3 = \"./png/16to66Anl/ImpactOfNeuroimagingPhenotypesOnBrainAgeEstimation_OT_16to66_RegressionCoefficient.png\"\n",
    "#output_path = \"./png/16to66Anl/ImpactOfNeuroimagingPhenotypesOnBrainAgeEstimation_16to66_RegressionCoefficient.png\"\n",
    "\n",
    "text = \"CC 16to66\"\n",
    "HorBrains1 = \"./png/16to66Anl/CorBtwnAgeAndNeuroimagePhenotype_CT_16to66_CorrelationCoefficient.png\"\n",
    "HorBrains2 = \"./png/16to66Anl/CorBtwnAgeAndNeuroimagePhenotype_SA_16to66_CorrelationCoefficient.png\"\n",
    "HorBrains3 = \"./png/16to66Anl/CorBtwnAgeAndNeuroimagePhenotype_OT_16to66_CorrelationCoefficient.png\"\n",
    "output_path = \"./png/16to66Anl/CorBtwnAgeAndNeuroimagePhenotype_16to66_CorrelationCoefficient.png\"\n",
    "\n",
    "\n",
    "from PIL import Image\n",
    "\n",
    "img_e = Image.open(EmptyPNG)\n",
    "img_ct = Image.open(CT_PNG)\n",
    "img_sa = Image.open(SA_PNG)\n",
    "img_ot = Image.open(OT_PNG)\n",
    "img_n = Image.open(NorthPNG)\n",
    "img_hb1 = Image.open(HorBrains1)\n",
    "img_hb2 = Image.open(HorBrains2)\n",
    "img_hb3 = Image.open(HorBrains3)\n",
    "\n",
    "# Get the size of the images\n",
    "width_e, height_e = img_e.size\n",
    "width_ct, height_ct = img_ct.size\n",
    "width_sa, height_sa = img_sa.size\n",
    "width_ot, height_ot = img_ot.size\n",
    "width_n, height_n = img_n.size\n",
    "width_hb1, height_hb1 = img_hb1.size\n",
    "width_hb2, height_hb2 = img_hb2.size\n",
    "width_hb3, height_hb3 = img_hb3.size\n",
    "hor_space, ver_space = width_hb1//30, height_hb1//10, \n",
    "\n",
    "# Check for image sizes\n",
    "if(height_e != height_n):\n",
    "        raise ValueError(\"Target images must have the same width or height for merging.\")\n",
    "if(height_ct != height_hb1):\n",
    "        raise ValueError(\"Target images must have the same width or height for merging.\")\n",
    "if(height_sa != height_hb2):\n",
    "        raise ValueError(\"Target images must have the same width or height for merging.\")\n",
    "if(height_ot != height_hb3):\n",
    "        raise ValueError(\"Target images must have the same width or height for merging.\")\n",
    "\n",
    "# Ensure all images have the same height\n",
    "tmp_imges = [img_hb1, img_hb2, img_hb3]\n",
    "width = width_hb1\n",
    "if any(img.size[0] != width for img in tmp_imges[1:]):\n",
    "        raise ValueError(\"All images must have the same width for merging.\")\n",
    "\n",
    "# Create a new image with the calculated size\n",
    "new_width = width_e + width_n + hor_space * 1 \n",
    "new_height = height_e + height_ct + height_sa + height_ot + ver_space * 3\n",
    "merged_image = Image.new(\"RGB\", (new_width, new_height), \"white\")\n",
    "\n",
    "# Paste Images\n",
    "merged_image.paste(img_e, (0, 0))\n",
    "merged_image.paste(img_n, (width_e, 0))\n",
    "\n",
    "merged_image.paste(img_ct, (0, height_e))\n",
    "merged_image.paste(img_hb1, (width_e, height_e))\n",
    "\n",
    "merged_image.paste(img_sa, (0, height_e + ver_space + height_ct))\n",
    "merged_image.paste(img_hb2, (width_e, height_e + height_ct + ver_space))\n",
    "\n",
    "merged_image.paste(img_ot, (0, height_e + height_ct + ver_space + height_sa + ver_space))\n",
    "merged_image.paste(img_hb3, (width_e, height_e + height_ct + ver_space + height_sa + ver_space))\n",
    "\n",
    "# 文字の書き込み\n",
    "from PIL import Image, ImageDraw, ImageFont\n",
    "font_path = \"/usr/share/fonts/truetype/dejavu/DejaVuSans.ttf\"\n",
    "font_size = 72\n",
    "font = ImageFont.truetype(font_path, font_size)\n",
    "draw = ImageDraw.Draw(merged_image)\n",
    "#text = \"CC 16to66\"\n",
    "text_width, text_height = draw.textsize(text, font=font)\n",
    "text_x = width_e//2\n",
    "text_y = height_e//2 - text_height//2\n",
    "draw.text((text_x, text_y), text, font=font, fill='black')\n",
    "\n",
    "\n",
    "# Save the result\n",
    "merged_image.save(output_path)"
   ]
  }
 ],
 "metadata": {
  "kernelspec": {
   "display_name": "Python 3",
   "language": "python",
   "name": "python3"
  },
  "language_info": {
   "codemirror_mode": {
    "name": "ipython",
    "version": 3
   },
   "file_extension": ".py",
   "mimetype": "text/x-python",
   "name": "python",
   "nbconvert_exporter": "python",
   "pygments_lexer": "ipython3",
   "version": "3.8.8"
  },
  "toc": {
   "base_numbering": 1,
   "nav_menu": {},
   "number_sections": true,
   "sideBar": true,
   "skip_h1_title": true,
   "title_cell": "Table of Contents",
   "title_sidebar": "Contents",
   "toc_cell": true,
   "toc_position": {},
   "toc_section_display": true,
   "toc_window_display": false
  }
 },
 "nbformat": 4,
 "nbformat_minor": 5
}
