{
 "cells": [
  {
   "cell_type": "markdown",
   "id": "f4b44629",
   "metadata": {
    "toc": true
   },
   "source": [
    "<h1>Table of Contents<span class=\"tocSkip\"></span></h1>\n",
    "<div class=\"toc\"><ul class=\"toc-item\"><li><span><a href=\"#Generate-Guide-Area-PNG-(North,-1行タイプ)\" data-toc-modified-id=\"Generate-Guide-Area-PNG-(North,-1行タイプ)-1\"><span class=\"toc-item-num\">1&nbsp;&nbsp;</span>Generate Guide Area PNG (North, 1行タイプ)</a></span></li><li><span><a href=\"#Generate-Guide-Area-PNG-(North,-2行タイプ)\" data-toc-modified-id=\"Generate-Guide-Area-PNG-(North,-2行タイプ)-2\"><span class=\"toc-item-num\">2&nbsp;&nbsp;</span>Generate Guide Area PNG (North, 2行タイプ)</a></span></li><li><span><a href=\"#Generate-Guide-Area-PNG-(West,-Right-Left-Lat-Med)\" data-toc-modified-id=\"Generate-Guide-Area-PNG-(West,-Right-Left-Lat-Med)-3\"><span class=\"toc-item-num\">3&nbsp;&nbsp;</span>Generate Guide Area PNG (West, Right-Left-Lat-Med)</a></span></li><li><span><a href=\"#Join-Guide-Areas-and-Vertical-Brain-Areas\" data-toc-modified-id=\"Join-Guide-Areas-and-Vertical-Brain-Areas-4\"><span class=\"toc-item-num\">4&nbsp;&nbsp;</span>Join Guide Areas and Vertical Brain Areas</a></span></li></ul></div>"
   ]
  },
  {
   "cell_type": "markdown",
   "id": "af969d24",
   "metadata": {},
   "source": [
    "## Generate Guide Area PNG (North, 1行タイプ)"
   ]
  },
  {
   "cell_type": "code",
   "execution_count": 47,
   "id": "2a2b2967",
   "metadata": {
    "ExecuteTime": {
     "end_time": "2024-02-22T01:36:50.540707Z",
     "start_time": "2024-02-22T01:36:50.523543Z"
    },
    "code_folding": [
     0
    ]
   },
   "outputs": [
    {
     "name": "stdout",
     "output_type": "stream",
     "text": [
      "PNG ファイルEmpty_for_Vertical.pngが作成されました。\n"
     ]
    }
   ],
   "source": [
    "def generate1TextLinePng(text1, filename): \n",
    "    \n",
    "    from PIL import Image, ImageDraw, ImageFont\n",
    "\n",
    "    # Create a blank white image\n",
    "    width, height = 938, 300\n",
    "    image = Image.new(\"RGB\", (width, height), \"white\")\n",
    "\n",
    "    # Initialize the drawing context\n",
    "    draw = ImageDraw.Draw(image)\n",
    "\n",
    "    # Specify the font and size\n",
    "    font_path = \"/usr/share/fonts/truetype/dejavu/DejaVuSans.ttf\"\n",
    "    font_size = 96\n",
    "    font = ImageFont.truetype(font_path, font_size)\n",
    "\n",
    "    # Specify the text and position\n",
    "    #text = \"26 to 46 years\"\n",
    "    text = text1\n",
    "    \n",
    "    # テキストのサイズを取得\n",
    "    text_width, text_height = draw.textsize(text, font=font)\n",
    "\n",
    "    # テキストの位置を中央に調整\n",
    "    x = (width - text_width) // 2\n",
    "    y = (height - text_height) // 2\n",
    "\n",
    "    text_position = (x, y)\n",
    "\n",
    "    # Draw the text on the image\n",
    "    draw.text(text_position, text, fill=\"black\", font=font)\n",
    "\n",
    "    # Save the image as a PNG file\n",
    "    #file_name = \"26_to_46_y.o..png\"\n",
    "    image.save(\"./png/supporting_files/\"+ filename)\n",
    "\n",
    "    print(\"PNG ファイル\" + filename + \"が作成されました。\")\n",
    "\n",
    "generate1TextLinePng(\"\", \"Empty_for_Vertical.png\")"
   ]
  },
  {
   "cell_type": "markdown",
   "id": "be26a9be",
   "metadata": {},
   "source": [
    "##  Generate Guide Area PNG (North, 2行タイプ)"
   ]
  },
  {
   "cell_type": "code",
   "execution_count": 30,
   "id": "dc31504a",
   "metadata": {
    "ExecuteTime": {
     "end_time": "2024-02-21T10:51:44.975805Z",
     "start_time": "2024-02-21T10:51:44.890853Z"
    }
   },
   "outputs": [
    {
     "name": "stdout",
     "output_type": "stream",
     "text": [
      "PNG ファイルVertical_Lat_Med_Right_Left.pngが作成されました。\n",
      "PNG ファイルVertical_Lat_Med_Right_Left.pngが作成されました。\n",
      "PNG ファイルVertical_Lat_Med_Right_Left.pngが作成されました。\n",
      "PNG ファイルVertical_Lat_Med_Right_Left.pngが作成されました。\n"
     ]
    }
   ],
   "source": [
    "def generate2TextLinePng(text1, text2, filename): \n",
    "\n",
    "    from PIL import Image, ImageDraw, ImageFont\n",
    "\n",
    "    # Create a blank white image\n",
    "    width, height = 938, 300\n",
    "    image = Image.new(\"RGB\", (width, height), \"white\")\n",
    "\n",
    "    # Initialize the drawing context\n",
    "    draw = ImageDraw.Draw(image)\n",
    "\n",
    "    # Specify the font and size\n",
    "    font_path = \"/usr/share/fonts/truetype/dejavu/DejaVuSans.ttf\"\n",
    "    font_size = 96\n",
    "    font = ImageFont.truetype(font_path, font_size)\n",
    "\n",
    "    # Specify the text and position\n",
    "    text1 = text1\n",
    "    text2 = text2\n",
    "\n",
    "    # テキストのサイズを取得\n",
    "    text1_width, text1_height = draw.textsize(text1, font=font)\n",
    "    text2_width, text2_height = draw.textsize(text2, font=font)\n",
    "\n",
    "    # テキストの位置を中央に調整\n",
    "    x1 = (width - text1_width) // 2\n",
    "    y1 = (height - text1_height - text2_height) // 2\n",
    "    x2 = (width - text2_width) // 2\n",
    "    y2 = y1 + text1_height\n",
    "\n",
    "    # テキストを描画\n",
    "    draw.text((x1, y1), text1, font=font, fill='black')\n",
    "    draw.text((x2, y2), text2, font=font, fill='black')\n",
    "\n",
    "    # Save the image as a PNG file\n",
    "    #file_name = \"26_to_46_y.o..png\"\n",
    "    \n",
    "    image.save(\"./png/supporting_files/\"+ filename)\n",
    "\n",
    "    print(\"PNG ファイル\" + filename + \"が作成されました。\")\n",
    "\n",
    "    \n",
    "generate2TextLinePng(\"16 to 36\", \"years\", \"Vertical_16_to_36_years.png\")\n",
    "generate2TextLinePng(\"26 to 46\", \"years\", \"Vertical_26_to_46_years.png\")\n",
    "generate2TextLinePng(\"36 to 56\", \"years\", \"Vertical_36_to_56_years.png\")\n",
    "generate2TextLinePng(\"46 to 66\", \"years\", \"Vertical_46_to_66_years.png\")"
   ]
  },
  {
   "cell_type": "markdown",
   "id": "3dc6ca5e",
   "metadata": {},
   "source": [
    "## Generate Guide Area PNG (West, Right-Left-Lat-Med)"
   ]
  },
  {
   "cell_type": "code",
   "execution_count": 32,
   "id": "49cf30c9",
   "metadata": {
    "ExecuteTime": {
     "end_time": "2024-02-21T11:16:14.218876Z",
     "start_time": "2024-02-21T11:16:14.101675Z"
    },
    "scrolled": false
   },
   "outputs": [
    {
     "name": "stdout",
     "output_type": "stream",
     "text": [
      "PNG ファイルVertical_Right_Left_Lat_Med.pngが作成されました。\n"
     ]
    }
   ],
   "source": [
    "from PIL import Image, ImageDraw, ImageFont\n",
    "\n",
    "# Create a blank white image\n",
    "width, height = 938, 3124\n",
    "image = Image.new(\"RGB\", (width, height), \"white\")\n",
    "\n",
    "# Initialize the drawing context\n",
    "draw = ImageDraw.Draw(image)\n",
    "\n",
    "# Specify the font and size\n",
    "font_path = \"/usr/share/fonts/truetype/dejavu/DejaVuSans.ttf\"\n",
    "font_size = 96\n",
    "font = ImageFont.truetype(font_path, font_size)\n",
    "\n",
    "# Specify the text and position\n",
    "text_lat = \"Lat.\"\n",
    "text_med = \"Med.\"\n",
    "text_right = \"Right\"\n",
    "text_left = \"Left\"\n",
    "\n",
    "# テキストのサイズを取得\n",
    "text_lat_width, text_lat_height = draw.textsize(text_lat, font=font)\n",
    "text_med_width, text_med_height = draw.textsize(text_med, font=font)\n",
    "text_right_width, text_right_height = draw.textsize(text_right, font=font)\n",
    "text_left_width, text_left_height = draw.textsize(text_left, font=font)\n",
    "\n",
    "# テキストの位置を中央に調整\n",
    "x1 = width//4 - text_right_width//2\n",
    "y1 = height//4 - text_right_height//2\n",
    "x2 = width//4 - text_left_width//2\n",
    "y2 = height//4 * 3 - text_left_height//2\n",
    "x3 = width//4 * 3 - text_lat_width//2\n",
    "y3 = height//8 - text_lat_height//2\n",
    "x4 = width//4 * 3 - text_med_width//2\n",
    "y4 = height//8 * 3 - text_med_height//2\n",
    "x5 = width//4 * 3 - text_lat_width//2\n",
    "y5 = height//8 * 5 - text_lat_height//2\n",
    "x6 = width//4 * 3 - text_med_width//2\n",
    "y6 = height//8 * 7 - text_med_height//2\n",
    "\n",
    "# テキストを描画\n",
    "draw.text((x1, y1), text_right, font=font, fill='black')\n",
    "draw.text((x2, y2), text_left, font=font, fill='black')\n",
    "draw.text((x3, y3), text_lat, font=font, fill='black')\n",
    "draw.text((x4, y4), text_med, font=font, fill='black')\n",
    "draw.text((x5, y5), text_lat, font=font, fill='black')\n",
    "draw.text((x6, y6), text_med, font=font, fill='black')\n",
    "\n",
    "# Save the image as a PNG file\n",
    "file_name = \"Vertical_Right_Left_Lat_Med.png\"\n",
    "image.save(\"./png/supporting_files/\"+ file_name)\n",
    "\n",
    "print(\"PNG ファイル\" + file_name + \"が作成されました。\")\n"
   ]
  },
  {
   "cell_type": "markdown",
   "id": "3900573b",
   "metadata": {},
   "source": [
    "## Join Guide Areas and Vertical Brain Areas"
   ]
  },
  {
   "cell_type": "code",
   "execution_count": 57,
   "id": "19dbb46a",
   "metadata": {
    "ExecuteTime": {
     "end_time": "2024-02-22T02:23:09.769183Z",
     "start_time": "2024-02-22T02:23:08.621458Z"
    }
   },
   "outputs": [],
   "source": [
    "#\n",
    "#  EmptyPNG   NorthPNG1    NorthPNG2    NorthPNG3    NorthPNG4\n",
    "#\n",
    "#  GuidePNG   VerBrains1   VerBrains2   VerBrains3   VerBrains4\n",
    "#\n",
    "#\n",
    "EmptyPNG = \"./png/supporting_files/Empty_for_Vertical.png\"\n",
    "GuidePNG = \"./png/supporting_files/Vertical_Right_Left_Lat_Med.png\"\n",
    "NorthPNG1 = \"./png/supporting_files/Vertical_16_to_36_years.png\"\n",
    "NorthPNG2 = \"./png/supporting_files/Vertical_26_to_46_years.png\"\n",
    "NorthPNG3 = \"./png/supporting_files/Vertical_36_to_56_years.png\"\n",
    "NorthPNG4 = \"./png/supporting_files/Vertical_46_to_66_years.png\"\n",
    "\n",
    "#text = \"CC, CT\"\n",
    "#VerBrains1 = \"./png/16to36Anl/CorBtwnAgeAndNeuroimagePhenotype_CT_16to36_CorrelationCoefficient.png\"\n",
    "#VerBrains2 = \"./png/26to46Anl/CorBtwnAgeAndNeuroimagePhenotype_CT_26to46_CorrelationCoefficient.png\"\n",
    "#VerBrains3 = \"./png/36to56Anl/CorBtwnAgeAndNeuroimagePhenotype_CT_36to56_CorrelationCoefficient.png\"\n",
    "#VerBrains4 = \"./png/46to66Anl/CorBtwnAgeAndNeuroimagePhenotype_CT_46to66_CorrelationCoefficient.png\"\n",
    "#output_path = \"./png/CorBtwnAgeAndNeuroimagePhenotype_CT_CorrelationCoefficient.png\"\n",
    "\n",
    "#text = \"RC, CT\"\n",
    "#VerBrains1 = \"./png/16to36Anl/ImpactOfNeuroimagingPhenotypesOnBrainAgeEstimation_CT_16to36_RegressionCoefficient.png\"\n",
    "#VerBrains2 = \"./png/26to46Anl/ImpactOfNeuroimagingPhenotypesOnBrainAgeEstimation_CT_26to46_RegressionCoefficient.png\"\n",
    "#VerBrains3 = \"./png/36to56Anl/ImpactOfNeuroimagingPhenotypesOnBrainAgeEstimation_CT_36to56_RegressionCoefficient.png\"\n",
    "#VerBrains4 = \"./png/46to66Anl/ImpactOfNeuroimagingPhenotypesOnBrainAgeEstimation_CT_46to66_RegressionCoefficient.png\"\n",
    "#output_path = \"./png/ImpactOfNeuroimagingPhenotypesOnBrainAgeEstimation_CT_RegressionCoefficient.png\"\n",
    "\n",
    "#text = \"CC, SA\"\n",
    "#VerBrains1 = \"./png/16to36Anl/CorBtwnAgeAndNeuroimagePhenotype_SA_16to36_CorrelationCoefficient.png\"\n",
    "#VerBrains2 = \"./png/26to46Anl/CorBtwnAgeAndNeuroimagePhenotype_SA_26to46_CorrelationCoefficient.png\"\n",
    "#VerBrains3 = \"./png/36to56Anl/CorBtwnAgeAndNeuroimagePhenotype_SA_36to56_CorrelationCoefficient.png\"\n",
    "#VerBrains4 = \"./png/46to66Anl/CorBtwnAgeAndNeuroimagePhenotype_SA_46to66_CorrelationCoefficient.png\"\n",
    "#output_path = \"./png/CorBtwnAgeAndNeuroimagePhenotype_SA_CorrelationCoefficient.png\"\n",
    "\n",
    "#text = \"RC, SA\"\n",
    "#VerBrains1 = \"./png/16to36Anl/ImpactOfNeuroimagingPhenotypesOnBrainAgeEstimation_SA_16to36_RegressionCoefficient.png\"\n",
    "#VerBrains2 = \"./png/26to46Anl/ImpactOfNeuroimagingPhenotypesOnBrainAgeEstimation_SA_26to46_RegressionCoefficient.png\"\n",
    "#VerBrains3 = \"./png/36to56Anl/ImpactOfNeuroimagingPhenotypesOnBrainAgeEstimation_SA_36to56_RegressionCoefficient.png\"\n",
    "#VerBrains4 = \"./png/46to66Anl/ImpactOfNeuroimagingPhenotypesOnBrainAgeEstimation_SA_46to66_RegressionCoefficient.png\"\n",
    "#output_path = \"./png/ImpactOfNeuroimagingPhenotypesOnBrainAgeEstimation_SA_RegressionCoefficient.png\"\n",
    "\n",
    "#text = \"CC, OT\"\n",
    "#VerBrains1 = \"./png/16to36Anl/CorBtwnAgeAndNeuroimagePhenotype_OT_16to36_CorrelationCoefficient.png\"\n",
    "#VerBrains2 = \"./png/26to46Anl/CorBtwnAgeAndNeuroimagePhenotype_OT_26to46_CorrelationCoefficient.png\"\n",
    "#VerBrains3 = \"./png/36to56Anl/CorBtwnAgeAndNeuroimagePhenotype_OT_36to56_CorrelationCoefficient.png\"\n",
    "#VerBrains4 = \"./png/46to66Anl/CorBtwnAgeAndNeuroimagePhenotype_OT_46to66_CorrelationCoefficient.png\"\n",
    "#output_path = \"./png/CorBtwnAgeAndNeuroimagePhenotype_OT_CorrelationCoefficient.png\"\n",
    "\n",
    "text = \"RC, OT\"\n",
    "VerBrains1 = \"./png/16to36Anl/ImpactOfNeuroimagingPhenotypesOnBrainAgeEstimation_OT_16to36_RegressionCoefficient.png\"\n",
    "VerBrains2 = \"./png/26to46Anl/ImpactOfNeuroimagingPhenotypesOnBrainAgeEstimation_OT_26to46_RegressionCoefficient.png\"\n",
    "VerBrains3 = \"./png/36to56Anl/ImpactOfNeuroimagingPhenotypesOnBrainAgeEstimation_OT_36to56_RegressionCoefficient.png\"\n",
    "VerBrains4 = \"./png/46to66Anl/ImpactOfNeuroimagingPhenotypesOnBrainAgeEstimation_OT_46to66_RegressionCoefficient.png\"\n",
    "output_path = \"./png/ImpactOfNeuroimagingPhenotypesOnBrainAgeEstimation_OT_RegressionCoefficient.png\"\n",
    "\n",
    "from PIL import Image\n",
    "\n",
    "img_e = Image.open(EmptyPNG)\n",
    "img_g = Image.open(GuidePNG)\n",
    "img_n1 = Image.open(NorthPNG1)\n",
    "img_n2 = Image.open(NorthPNG2)\n",
    "img_n3 = Image.open(NorthPNG3)\n",
    "img_n4 = Image.open(NorthPNG4)\n",
    "img_vb1 = Image.open(VerBrains1)\n",
    "img_vb2 = Image.open(VerBrains2)\n",
    "img_vb3 = Image.open(VerBrains3)\n",
    "img_vb4 = Image.open(VerBrains4)\n",
    "\n",
    "# Get the size of the images\n",
    "width_e, height_e = img_e.size\n",
    "width_g, height_g = img_g.size\n",
    "width_n1, height_n1 = img_n1.size\n",
    "width_n2, height_n2 = img_n2.size\n",
    "width_n3, height_n3 = img_n3.size\n",
    "width_n4, height_n4 = img_n4.size\n",
    "width_vb1, height_vb1 = img_vb1.size\n",
    "width_vb2, height_vb2 = img_vb2.size\n",
    "width_vb3, height_vb3 = img_vb3.size\n",
    "width_vb4, height_vb4 = img_vb4.size\n",
    "width_space, heiht_space = width_vb1//10, height_vb1//30, \n",
    "\n",
    "# Check for image sizes\n",
    "if(width_e != width_g):\n",
    "        raise ValueError(\"Target images must have the same width or height for merging.\")\n",
    "if(width_n1 != width_vb1):\n",
    "        raise ValueError(\"Target images must have the same width or height for merging.\")\n",
    "if(width_n2 != width_vb2):\n",
    "        raise ValueError(\"Target images must have the same width or height for merging.\")\n",
    "if(width_n3 != width_vb3):\n",
    "        raise ValueError(\"Target images must have the same width or height for merging.\")\n",
    "if(width_n4 != width_vb4):\n",
    "        raise ValueError(\"Target images must have the same width or height for merging.\")\n",
    "\n",
    "# Ensure all images have the same height\n",
    "tmp_imges = [img_vb1, img_vb2, img_vb3, img_vb4]\n",
    "height = height_vb1\n",
    "if any(img.size[1] != height for img in tmp_imges[1:]):\n",
    "        raise ValueError(\"All images must have the same height for merging.\")\n",
    "\n",
    "# Create a new image with the calculated size\n",
    "new_width = width_e + width_n1 + width_n2 + width_n3 + width_n4 + width_space * 4 \n",
    "new_height = height_e + height_g + heiht_space\n",
    "merged_image = Image.new(\"RGB\", (new_width, new_height), \"white\")\n",
    "\n",
    "# Paste Images\n",
    "merged_image.paste(img_e, (0, 0))\n",
    "merged_image.paste(img_g, (0, height_e))\n",
    "merged_image.paste(img_n1, (width_e, 0))\n",
    "merged_image.paste(img_vb1, (width_e, height_e))\n",
    "merged_image.paste(img_n2, (width_e + width_space + width_n1, 0))\n",
    "merged_image.paste(img_vb2, (width_e + width_space + width_n1, height_e))\n",
    "merged_image.paste(img_n3, (width_e + width_space +width_n1 + width_space + width_n2, 0))\n",
    "merged_image.paste(img_vb3, (width_e + width_space + width_n1 + width_space + width_n2, height_e))\n",
    "merged_image.paste(img_n4, (width_e + width_space + \n",
    "                            width_n1 + width_space + \n",
    "                            width_n2 + width_space+ width_n3, 0))\n",
    "merged_image.paste(img_vb4, (width_e + width_space + \n",
    "                             width_n1 + width_space + \n",
    "                             width_n2 + width_space+ width_n3, height_e))\n",
    "\n",
    "# 文字の書き込み\n",
    "from PIL import Image, ImageDraw, ImageFont\n",
    "font_path = \"/usr/share/fonts/truetype/dejavu/DejaVuSans.ttf\"\n",
    "font_size = 72\n",
    "font = ImageFont.truetype(font_path, font_size)\n",
    "draw = ImageDraw.Draw(merged_image)\n",
    "#text = \"CC 16to66\"\n",
    "text_width, text_height = draw.textsize(text, font=font)\n",
    "text_x = width_e//2\n",
    "text_y = height_e//2 - text_height//2\n",
    "draw.text((text_x, text_y), text, font=font, fill='black')\n",
    "\n",
    "# Save the result\n",
    "merged_image.save(output_path)"
   ]
  }
 ],
 "metadata": {
  "kernelspec": {
   "display_name": "Python 3",
   "language": "python",
   "name": "python3"
  },
  "language_info": {
   "codemirror_mode": {
    "name": "ipython",
    "version": 3
   },
   "file_extension": ".py",
   "mimetype": "text/x-python",
   "name": "python",
   "nbconvert_exporter": "python",
   "pygments_lexer": "ipython3",
   "version": "3.8.8"
  },
  "toc": {
   "base_numbering": 1,
   "nav_menu": {},
   "number_sections": true,
   "sideBar": true,
   "skip_h1_title": true,
   "title_cell": "Table of Contents",
   "title_sidebar": "Contents",
   "toc_cell": true,
   "toc_position": {},
   "toc_section_display": true,
   "toc_window_display": false
  }
 },
 "nbformat": 4,
 "nbformat_minor": 5
}
