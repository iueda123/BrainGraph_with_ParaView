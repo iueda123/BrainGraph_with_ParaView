{
 "cells": [
  {
   "cell_type": "markdown",
   "id": "12e7d96f",
   "metadata": {
    "toc": true
   },
   "source": [
    "<h1>Table of Contents<span class=\"tocSkip\"></span></h1>\n",
    "<div class=\"toc\"><ul class=\"toc-item\"><li><span><a href=\"#MergePngHorizontally.py\" data-toc-modified-id=\"MergePngHorizontally.py-1\"><span class=\"toc-item-num\">1&nbsp;&nbsp;</span>MergePngHorizontally.py</a></span><ul class=\"toc-item\"><li><span><a href=\"#MergePngVertically.py\" data-toc-modified-id=\"MergePngVertically.py-1.1\"><span class=\"toc-item-num\">1.1&nbsp;&nbsp;</span>MergePngVertically.py</a></span></li></ul></li></ul></div>"
   ]
  },
  {
   "cell_type": "markdown",
   "id": "ee371d2d",
   "metadata": {},
   "source": [
    "## MergePngHorizontally.py"
   ]
  },
  {
   "cell_type": "code",
   "execution_count": 22,
   "id": "014b8024",
   "metadata": {
    "ExecuteTime": {
     "end_time": "2024-02-16T08:05:23.658379Z",
     "start_time": "2024-02-16T08:05:23.648896Z"
    }
   },
   "outputs": [
    {
     "name": "stdout",
     "output_type": "stream",
     "text": [
      "OUTPUT_FILE_NAME_PREFIX: EffectivenessOfNeuroimagingPhenotypesOnBrainAgeEstimation_others_16to66\n",
      "ValueName: Regression Coefficient\n",
      "OUTPUT_FOLDER: ./png\n",
      "['./png/EffectivenessOfNeuroimagingPhenotypesOnBrainAgeEstimation_others_16to66_RegressionCoefficient_R_Lat.png', './png/EffectivenessOfNeuroimagingPhenotypesOnBrainAgeEstimation_others_16to66_RegressionCoefficient_R_Med.png', './png/EffectivenessOfNeuroimagingPhenotypesOnBrainAgeEstimation_others_16to66_RegressionCoefficient_L_Med.png', './png/EffectivenessOfNeuroimagingPhenotypesOnBrainAgeEstimation_others_16to66_RegressionCoefficient_L_Lat.png']\n"
     ]
    }
   ],
   "source": [
    "#\n",
    "# MergePngHorizontally.py\n",
    "#\n",
    "from PIL import Image\n",
    "\n",
    "def merge_four_images_horizontally(image_paths, output_path):\n",
    "    # Open the images\n",
    "    images = [Image.open(image_path) for image_path in image_paths]\n",
    "\n",
    "    # Get the size of the first image\n",
    "    width, height = images[0].size\n",
    "\n",
    "    # Ensure all images have the same height\n",
    "    if any(img.size[1] != height for img in images[1:]):\n",
    "        raise ValueError(\"All images must have the same height for horizontal merging.\")\n",
    "\n",
    "    # Calculate the new width\n",
    "    new_width = width * len(images)\n",
    "\n",
    "    # Create a new image with the calculated size\n",
    "    merged_image = Image.new(\"RGB\", (new_width, height))\n",
    "\n",
    "    # Paste each image side by side\n",
    "    for i, img in enumerate(images):\n",
    "        merged_image.paste(img, (i * width, 0))\n",
    "\n",
    "    # Save the result\n",
    "    merged_image.save(output_path)\n",
    "\n",
    "\n",
    "#------------------------------\n",
    "    \n",
    "import configparser\n",
    "config = configparser.ConfigParser()\n",
    "config.read('./config.ini', encoding='utf-8')\n",
    "\n",
    "# OUTPUT_FILE_NAME_PREFIX\n",
    "value_table_file = config.get('Settings', 'value_table_file')\n",
    "import pathlib\n",
    "OUTPUT_FILE_NAME_PREFIX = pathlib.Path(value_table_file).stem\n",
    "print(\"OUTPUT_FILE_NAME_PREFIX: \" + OUTPUT_FILE_NAME_PREFIX)\n",
    "\n",
    "# ValueName\n",
    "ValueName = config.get('Settings', 'ValueName')\n",
    "ValueName = ValueName.replace(\"\\\"\", \"\").replace(\"\\'\", \"\")\n",
    "print(\"ValueName: \" + ValueName)\n",
    "\n",
    "# OUTPUT_FOLDER\n",
    "OUTPUT_FOLDER = config.get('Settings', 'output_folder')\n",
    "OUTPUT_FOLDER = OUTPUT_FOLDER.replace(\"\\\"\", \"\").replace(\"\\'\", \"\")\n",
    "print(\"OUTPUT_FOLDER: \" + OUTPUT_FOLDER)\n",
    "\n",
    "#\n",
    "# OUTPUT_FILE_NAME\n",
    "#\n",
    "OUTPUT_FILE_NAME = OUTPUT_FILE_NAME_PREFIX + \"_\" + ValueName.replace(\" \", \"\") + \".png\"\n",
    "\n",
    "#\n",
    "# Construct PNG File Path Array\n",
    "#\n",
    "source_png_files = []\n",
    "\n",
    "laterality = \"R\"\n",
    "view = \"Lat\"\n",
    "output_file_path = OUTPUT_FOLDER + \"/\" + OUTPUT_FILE_NAME_PREFIX + \"_\" + ValueName.replace(\" \", \"\") + \"_\" + laterality + \"_\" + view + \".png\"\n",
    "source_png_files.append(output_file_path)\n",
    "view = \"Med\"\n",
    "output_file_path = OUTPUT_FOLDER + \"/\" + OUTPUT_FILE_NAME_PREFIX + \"_\" + ValueName.replace(\" \", \"\") + \"_\" + laterality + \"_\" + view + \".png\"\n",
    "source_png_files.append(output_file_path)\n",
    "\n",
    "laterality = \"L\"\n",
    "view = \"Med\"\n",
    "output_file_path = OUTPUT_FOLDER + \"/\" + OUTPUT_FILE_NAME_PREFIX + \"_\" + ValueName.replace(\" \", \"\") + \"_\" + laterality + \"_\" + view + \".png\"\n",
    "source_png_files.append(output_file_path)\n",
    "view = \"Lat\"\n",
    "output_file_path = OUTPUT_FOLDER + \"/\" + OUTPUT_FILE_NAME_PREFIX + \"_\" + ValueName.replace(\" \", \"\") + \"_\" + laterality + \"_\" + view + \".png\"\n",
    "source_png_files.append(output_file_path)\n",
    "\n",
    "print(source_png_files)\n",
    "\n",
    "\n",
    "#------------------------------\n",
    "\n",
    "output_path = OUTPUT_FOLDER + \"/\" + OUTPUT_FILE_NAME\n",
    "merge_four_images_horizontally(source_png_files, output_path)\n"
   ]
  },
  {
   "cell_type": "markdown",
   "id": "4b12a95a",
   "metadata": {},
   "source": [
    "------"
   ]
  }
 ],
 "metadata": {
  "kernelspec": {
   "display_name": "Python 3",
   "language": "python",
   "name": "python3"
  },
  "language_info": {
   "codemirror_mode": {
    "name": "ipython",
    "version": 3
   },
   "file_extension": ".py",
   "mimetype": "text/x-python",
   "name": "python",
   "nbconvert_exporter": "python",
   "pygments_lexer": "ipython3",
   "version": "3.8.8"
  },
  "toc": {
   "base_numbering": 1,
   "nav_menu": {},
   "number_sections": true,
   "sideBar": true,
   "skip_h1_title": true,
   "title_cell": "Table of Contents",
   "title_sidebar": "Contents",
   "toc_cell": true,
   "toc_position": {},
   "toc_section_display": true,
   "toc_window_display": false
  }
 },
 "nbformat": 4,
 "nbformat_minor": 5
}
