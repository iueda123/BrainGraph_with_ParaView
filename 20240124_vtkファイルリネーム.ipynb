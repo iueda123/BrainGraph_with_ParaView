{
 "cells": [
  {
   "cell_type": "markdown",
   "id": "6968016f",
   "metadata": {
    "toc": true
   },
   "source": [
    "<h1>Table of Contents<span class=\"tocSkip\"></span></h1>\n",
    "<div class=\"toc\"><ul class=\"toc-item\"></ul></div>"
   ]
  },
  {
   "cell_type": "markdown",
   "id": "070e3bc5",
   "metadata": {},
   "source": [
    "ITK-SNAPでまとめて出力したVTKファイルを一度にリネームするために使用"
   ]
  },
  {
   "cell_type": "code",
   "execution_count": 1,
   "id": "206fc20e",
   "metadata": {
    "ExecuteTime": {
     "end_time": "2024-01-24T08:12:16.998846Z",
     "start_time": "2024-01-24T08:12:16.884843Z"
    }
   },
   "outputs": [
    {
     "name": "stdout",
     "output_type": "stream",
     "text": [
      "\u001b[0m\u001b[01;34mRois_DK\u001b[0m            Untitled00019.vtk  Untitled00039.vtk  Untitled00059.vtk\n",
      "\u001b[01;34mRois_DK_with_Val\u001b[0m   Untitled00020.vtk  Untitled00040.vtk  Untitled00060.vtk\n",
      "Untitled00001.vtk  Untitled00021.vtk  Untitled00041.vtk  Untitled00061.vtk\n",
      "Untitled00002.vtk  Untitled00022.vtk  Untitled00042.vtk  Untitled00062.vtk\n",
      "Untitled00003.vtk  Untitled00023.vtk  Untitled00043.vtk  Untitled00063.vtk\n",
      "Untitled00004.vtk  Untitled00024.vtk  Untitled00044.vtk  Untitled00064.vtk\n",
      "Untitled00005.vtk  Untitled00025.vtk  Untitled00045.vtk  Untitled00065.vtk\n",
      "Untitled00006.vtk  Untitled00026.vtk  Untitled00046.vtk  Untitled00066.vtk\n",
      "Untitled00007.vtk  Untitled00027.vtk  Untitled00047.vtk  Untitled00067.vtk\n",
      "Untitled00008.vtk  Untitled00028.vtk  Untitled00048.vtk  Untitled00068.vtk\n",
      "Untitled00009.vtk  Untitled00029.vtk  Untitled00049.vtk  Untitled00069.vtk\n",
      "Untitled00010.vtk  Untitled00030.vtk  Untitled00050.vtk  Untitled00070.vtk\n",
      "Untitled00011.vtk  Untitled00031.vtk  Untitled00051.vtk  Untitled00071.vtk\n",
      "Untitled00012.vtk  Untitled00032.vtk  Untitled00052.vtk  Untitled00072.vtk\n",
      "Untitled00013.vtk  Untitled00033.vtk  Untitled00053.vtk  Untitled00073.vtk\n",
      "Untitled00014.vtk  Untitled00034.vtk  Untitled00054.vtk  Untitled00074.vtk\n",
      "Untitled00015.vtk  Untitled00035.vtk  Untitled00055.vtk  Untitled00089.vtk\n",
      "Untitled00016.vtk  Untitled00036.vtk  Untitled00056.vtk  Untitled00100.vtk\n",
      "Untitled00017.vtk  Untitled00037.vtk  Untitled00057.vtk  \u001b[01;34msample_files\u001b[0m\n",
      "Untitled00018.vtk  Untitled00038.vtk  Untitled00058.vtk\n"
     ]
    }
   ],
   "source": [
    "ls ./vtk"
   ]
  },
  {
   "cell_type": "code",
   "execution_count": 2,
   "id": "d7667381",
   "metadata": {
    "ExecuteTime": {
     "end_time": "2024-01-24T08:12:37.115462Z",
     "start_time": "2024-01-24T08:12:36.987822Z"
    },
    "collapsed": true
   },
   "outputs": [
    {
     "name": "stdout",
     "output_type": "stream",
     "text": [
      "\u001b[0m\u001b[01;31m001_ctx-lh-bankssts.nii.gz\u001b[0m\n",
      "\u001b[01;31m002_ctx-lh-caudalanteriorcingulate.nii.gz\u001b[0m\n",
      "\u001b[01;31m003_ctx-lh-caudalmiddlefrontal.nii.gz\u001b[0m\n",
      "\u001b[01;31m004_ctx-lh-cuneus.nii.gz\u001b[0m\n",
      "\u001b[01;31m005_ctx-lh-entorhinal.nii.gz\u001b[0m\n",
      "\u001b[01;31m006_ctx-lh-fusiform.nii.gz\u001b[0m\n",
      "\u001b[01;31m007_ctx-lh-inferiorparietal.nii.gz\u001b[0m\n",
      "\u001b[01;31m008_ctx-lh-inferiortemporal.nii.gz\u001b[0m\n",
      "\u001b[01;31m009_ctx-lh-isthmuscingulate.nii.gz\u001b[0m\n",
      "\u001b[01;31m010_ctx-lh-lateraloccipital.nii.gz\u001b[0m\n",
      "\u001b[01;31m011_ctx-lh-lateralorbitofrontal.nii.gz\u001b[0m\n",
      "\u001b[01;31m012_ctx-lh-lingual.nii.gz\u001b[0m\n",
      "\u001b[01;31m013_ctx-lh-medialorbitofrontal.nii.gz\u001b[0m\n",
      "\u001b[01;31m014_ctx-lh-middletemporal.nii.gz\u001b[0m\n",
      "\u001b[01;31m015_ctx-lh-parahippocampal.nii.gz\u001b[0m\n",
      "\u001b[01;31m016_ctx-lh-paracentral.nii.gz\u001b[0m\n",
      "\u001b[01;31m017_ctx-lh-parsopercularis.nii.gz\u001b[0m\n",
      "\u001b[01;31m018_ctx-lh-parsorbitalis.nii.gz\u001b[0m\n",
      "\u001b[01;31m019_ctx-lh-parstriangularis.nii.gz\u001b[0m\n",
      "\u001b[01;31m020_ctx-lh-pericalcarine.nii.gz\u001b[0m\n",
      "\u001b[01;31m021_ctx-lh-postcentral.nii.gz\u001b[0m\n",
      "\u001b[01;31m022_ctx-lh-posteriorcingulate.nii.gz\u001b[0m\n",
      "\u001b[01;31m023_ctx-lh-precentral.nii.gz\u001b[0m\n",
      "\u001b[01;31m024_ctx-lh-precuneus.nii.gz\u001b[0m\n",
      "\u001b[01;31m025_ctx-lh-rostralanteriorcingulate.nii.gz\u001b[0m\n",
      "\u001b[01;31m026_ctx-lh-rostralmiddlefrontal.nii.gz\u001b[0m\n",
      "\u001b[01;31m027_ctx-lh-superiorfrontal.nii.gz\u001b[0m\n",
      "\u001b[01;31m028_ctx-lh-superiorparietal.nii.gz\u001b[0m\n",
      "\u001b[01;31m029_ctx-lh-superiortemporal.nii.gz\u001b[0m\n",
      "\u001b[01;31m030_ctx-lh-supramarginal.nii.gz\u001b[0m\n",
      "\u001b[01;31m031_ctx-lh-frontalpole.nii.gz\u001b[0m\n",
      "\u001b[01;31m032_ctx-lh-temporalpole.nii.gz\u001b[0m\n",
      "\u001b[01;31m033_ctx-lh-transversetemporal.nii.gz\u001b[0m\n",
      "\u001b[01;31m034_ctx-lh-insula.nii.gz\u001b[0m\n",
      "\u001b[01;31m035_ctx-rh-bankssts.nii.gz\u001b[0m\n",
      "\u001b[01;31m036_ctx-rh-caudalanteriorcingulate.nii.gz\u001b[0m\n",
      "\u001b[01;31m037_ctx-rh-caudalmiddlefrontal.nii.gz\u001b[0m\n",
      "\u001b[01;31m038_ctx-rh-cuneus.nii.gz\u001b[0m\n",
      "\u001b[01;31m039_ctx-rh-entorhinal.nii.gz\u001b[0m\n",
      "\u001b[01;31m040_ctx-rh-fusiform.nii.gz\u001b[0m\n",
      "\u001b[01;31m041_ctx-rh-inferiorparietal.nii.gz\u001b[0m\n",
      "\u001b[01;31m042_ctx-rh-inferiortemporal.nii.gz\u001b[0m\n",
      "\u001b[01;31m043_ctx-rh-isthmuscingulate.nii.gz\u001b[0m\n",
      "\u001b[01;31m044_ctx-rh-lateraloccipital.nii.gz\u001b[0m\n",
      "\u001b[01;31m045_ctx-rh-lateralorbitofrontal.nii.gz\u001b[0m\n",
      "\u001b[01;31m046_ctx-rh-lingual.nii.gz\u001b[0m\n",
      "\u001b[01;31m047_ctx-rh-medialorbitofrontal.nii.gz\u001b[0m\n",
      "\u001b[01;31m048_ctx-rh-middletemporal.nii.gz\u001b[0m\n",
      "\u001b[01;31m049_ctx-rh-parahippocampal.nii.gz\u001b[0m\n",
      "\u001b[01;31m050_ctx-rh-paracentral.nii.gz\u001b[0m\n",
      "\u001b[01;31m051_ctx-rh-parsopercularis.nii.gz\u001b[0m\n",
      "\u001b[01;31m052_ctx-rh-parsorbitalis.nii.gz\u001b[0m\n",
      "\u001b[01;31m053_ctx-rh-parstriangularis.nii.gz\u001b[0m\n",
      "\u001b[01;31m054_ctx-rh-pericalcarine.nii.gz\u001b[0m\n",
      "\u001b[01;31m055_ctx-rh-postcentral.nii.gz\u001b[0m\n",
      "\u001b[01;31m056_ctx-rh-posteriorcingulate.nii.gz\u001b[0m\n",
      "\u001b[01;31m057_ctx-rh-precentral.nii.gz\u001b[0m\n",
      "\u001b[01;31m058_ctx-rh-precuneus.nii.gz\u001b[0m\n",
      "\u001b[01;31m059_ctx-rh-rostralanteriorcingulate.nii.gz\u001b[0m\n",
      "\u001b[01;31m060_ctx-rh-rostralmiddlefrontal.nii.gz\u001b[0m\n",
      "\u001b[01;31m061_ctx-rh-superiorfrontal.nii.gz\u001b[0m\n",
      "\u001b[01;31m062_ctx-rh-superiorparietal.nii.gz\u001b[0m\n",
      "\u001b[01;31m063_ctx-rh-superiortemporal.nii.gz\u001b[0m\n",
      "\u001b[01;31m064_ctx-rh-supramarginal.nii.gz\u001b[0m\n",
      "\u001b[01;31m065_ctx-rh-frontalpole.nii.gz\u001b[0m\n",
      "\u001b[01;31m066_ctx-rh-temporalpole.nii.gz\u001b[0m\n",
      "\u001b[01;31m067_ctx-rh-transversetemporal.nii.gz\u001b[0m\n",
      "\u001b[01;31m068_ctx-rh-insula.nii.gz\u001b[0m\n",
      "\u001b[01;31m069_CC_Posterior.nii.gz\u001b[0m\n",
      "\u001b[01;31m070_CC_Mid_Posterior.nii.gz\u001b[0m\n",
      "\u001b[01;31m071_CC_Central.nii.gz\u001b[0m\n",
      "\u001b[01;31m072_CC_Mid_Anterior.nii.gz\u001b[0m\n",
      "\u001b[01;31m073_CC_Anterior.nii.gz\u001b[0m\n",
      "\u001b[01;31m074_Left-Thalamus.nii.gz\u001b[0m\n",
      "\u001b[01;31m075_Left-Caudate.nii.gz\u001b[0m\n",
      "\u001b[01;31m076_Left-Putamen.nii.gz\u001b[0m\n",
      "\u001b[01;31m077_Left-Pallidum.nii.gz\u001b[0m\n",
      "\u001b[01;31m078_Left-Hippocampus.nii.gz\u001b[0m\n",
      "\u001b[01;31m079_Left-Amygdala.nii.gz\u001b[0m\n",
      "\u001b[01;31m080_Left-Accumbens-area.nii.gz\u001b[0m\n",
      "\u001b[01;31m081_Left-VentralDC.nii.gz\u001b[0m\n",
      "\u001b[01;31m082_Right-Thalamus.nii.gz\u001b[0m\n",
      "\u001b[01;31m083_Right-Caudate.nii.gz\u001b[0m\n",
      "\u001b[01;31m084_Right-Putamen.nii.gz\u001b[0m\n",
      "\u001b[01;31m085_Right-Pallidum.nii.gz\u001b[0m\n",
      "\u001b[01;31m086_Right-Hippocampus.nii.gz\u001b[0m\n",
      "\u001b[01;31m087_Right-Amygdala.nii.gz\u001b[0m\n",
      "\u001b[01;31m088_Right-Accumbens-area.nii.gz\u001b[0m\n",
      "\u001b[01;31m089_Right-VentralDC.nii.gz\u001b[0m\n",
      "\u001b[01;31m090_Left-Cerebellum-Cortex.nii.gz\u001b[0m\n",
      "\u001b[01;31m091_Right-Cerebellum-Cortex.nii.gz\u001b[0m\n",
      "\u001b[01;31m092_Brain-Stem.nii.gz\u001b[0m\n"
     ]
    }
   ],
   "source": [
    "ls ./nii.gz/Rois_DK"
   ]
  },
  {
   "cell_type": "code",
   "execution_count": 3,
   "id": "47f946fc",
   "metadata": {
    "ExecuteTime": {
     "end_time": "2024-01-24T09:07:11.611447Z",
     "start_time": "2024-01-24T09:07:07.557310Z"
    }
   },
   "outputs": [],
   "source": [
    "mv ./vtk/Untitled00001.vtk ./vtk/001_ctx-lh-bankssts.vtk\n",
    "mv ./vtk/Untitled00002.vtk ./vtk/002_ctx-lh-caudalanteriorcingulate.vtk\n",
    "mv ./vtk/Untitled00003.vtk ./vtk/003_ctx-lh-caudalmiddlefrontal.vtk\n",
    "mv ./vtk/Untitled00004.vtk ./vtk/004_ctx-lh-cuneus.vtk\n",
    "mv ./vtk/Untitled00005.vtk ./vtk/005_ctx-lh-entorhinal.vtk\n",
    "mv ./vtk/Untitled00006.vtk ./vtk/006_ctx-lh-fusiform.vtk\n",
    "mv ./vtk/Untitled00007.vtk ./vtk/007_ctx-lh-inferiorparietal.vtk\n",
    "mv ./vtk/Untitled00008.vtk ./vtk/008_ctx-lh-inferiortemporal.vtk\n",
    "mv ./vtk/Untitled00009.vtk ./vtk/009_ctx-lh-isthmuscingulate.vtk\n",
    "mv ./vtk/Untitled00010.vtk ./vtk/010_ctx-lh-lateraloccipital.vtk\n",
    "mv ./vtk/Untitled00011.vtk ./vtk/011_ctx-lh-lateralorbitofrontal.vtk\n",
    "mv ./vtk/Untitled00012.vtk ./vtk/012_ctx-lh-lingual.vtk\n",
    "mv ./vtk/Untitled00013.vtk ./vtk/013_ctx-lh-medialorbitofrontal.vtk\n",
    "mv ./vtk/Untitled00014.vtk ./vtk/014_ctx-lh-middletemporal.vtk\n",
    "mv ./vtk/Untitled00015.vtk ./vtk/015_ctx-lh-parahippocampal.vtk\n",
    "mv ./vtk/Untitled00016.vtk ./vtk/016_ctx-lh-paracentral.vtk\n",
    "mv ./vtk/Untitled00017.vtk ./vtk/017_ctx-lh-parsopercularis.vtk\n",
    "mv ./vtk/Untitled00018.vtk ./vtk/018_ctx-lh-parsorbitalis.vtk\n",
    "mv ./vtk/Untitled00019.vtk ./vtk/019_ctx-lh-parstriangularis.vtk\n",
    "mv ./vtk/Untitled00020.vtk ./vtk/020_ctx-lh-pericalcarine.vtk\n",
    "mv ./vtk/Untitled00021.vtk ./vtk/021_ctx-lh-postcentral.vtk\n",
    "mv ./vtk/Untitled00022.vtk ./vtk/022_ctx-lh-posteriorcingulate.vtk\n",
    "mv ./vtk/Untitled00023.vtk ./vtk/023_ctx-lh-precentral.vtk\n",
    "mv ./vtk/Untitled00024.vtk ./vtk/024_ctx-lh-precuneus.vtk\n",
    "mv ./vtk/Untitled00025.vtk ./vtk/025_ctx-lh-rostralanteriorcingulate.vtk\n",
    "mv ./vtk/Untitled00026.vtk ./vtk/026_ctx-lh-rostralmiddlefrontal.vtk\n",
    "mv ./vtk/Untitled00027.vtk ./vtk/027_ctx-lh-superiorfrontal.vtk\n",
    "mv ./vtk/Untitled00028.vtk ./vtk/028_ctx-lh-superiorparietal.vtk\n",
    "mv ./vtk/Untitled00029.vtk ./vtk/029_ctx-lh-superiortemporal.vtk\n",
    "mv ./vtk/Untitled00030.vtk ./vtk/030_ctx-lh-supramarginal.vtk\n",
    "mv ./vtk/Untitled00031.vtk ./vtk/031_ctx-lh-frontalpole.vtk\n",
    "mv ./vtk/Untitled00032.vtk ./vtk/032_ctx-lh-temporalpole.vtk\n",
    "mv ./vtk/Untitled00033.vtk ./vtk/033_ctx-lh-transversetemporal.vtk\n",
    "mv ./vtk/Untitled00034.vtk ./vtk/034_ctx-lh-insula.vtk\n",
    "mv ./vtk/Untitled00035.vtk ./vtk/035_ctx-rh-bankssts.vtk\n",
    "mv ./vtk/Untitled00036.vtk ./vtk/036_ctx-rh-caudalanteriorcingulate.vtk\n",
    "mv ./vtk/Untitled00037.vtk ./vtk/037_ctx-rh-caudalmiddlefrontal.vtk\n",
    "mv ./vtk/Untitled00038.vtk ./vtk/038_ctx-rh-cuneus.vtk\n",
    "mv ./vtk/Untitled00039.vtk ./vtk/039_ctx-rh-entorhinal.vtk\n",
    "mv ./vtk/Untitled00040.vtk ./vtk/040_ctx-rh-fusiform.vtk\n",
    "mv ./vtk/Untitled00041.vtk ./vtk/041_ctx-rh-inferiorparietal.vtk\n",
    "mv ./vtk/Untitled00042.vtk ./vtk/042_ctx-rh-inferiortemporal.vtk\n",
    "mv ./vtk/Untitled00043.vtk ./vtk/043_ctx-rh-isthmuscingulate.vtk\n",
    "mv ./vtk/Untitled00044.vtk ./vtk/044_ctx-rh-lateraloccipital.vtk\n",
    "mv ./vtk/Untitled00045.vtk ./vtk/045_ctx-rh-lateralorbitofrontal.vtk\n",
    "mv ./vtk/Untitled00046.vtk ./vtk/046_ctx-rh-lingual.vtk\n",
    "mv ./vtk/Untitled00047.vtk ./vtk/047_ctx-rh-medialorbitofrontal.vtk\n",
    "mv ./vtk/Untitled00048.vtk ./vtk/048_ctx-rh-middletemporal.vtk\n",
    "mv ./vtk/Untitled00049.vtk ./vtk/049_ctx-rh-parahippocampal.vtk\n",
    "mv ./vtk/Untitled00050.vtk ./vtk/050_ctx-rh-paracentral.vtk\n",
    "mv ./vtk/Untitled00051.vtk ./vtk/051_ctx-rh-parsopercularis.vtk\n",
    "mv ./vtk/Untitled00052.vtk ./vtk/052_ctx-rh-parsorbitalis.vtk\n",
    "mv ./vtk/Untitled00053.vtk ./vtk/053_ctx-rh-parstriangularis.vtk\n",
    "mv ./vtk/Untitled00054.vtk ./vtk/054_ctx-rh-pericalcarine.vtk\n",
    "mv ./vtk/Untitled00055.vtk ./vtk/055_ctx-rh-postcentral.vtk\n",
    "mv ./vtk/Untitled00056.vtk ./vtk/056_ctx-rh-posteriorcingulate.vtk\n",
    "mv ./vtk/Untitled00057.vtk ./vtk/057_ctx-rh-precentral.vtk\n",
    "mv ./vtk/Untitled00058.vtk ./vtk/058_ctx-rh-precuneus.vtk\n",
    "mv ./vtk/Untitled00059.vtk ./vtk/059_ctx-rh-rostralanteriorcingulate.vtk\n",
    "mv ./vtk/Untitled00060.vtk ./vtk/060_ctx-rh-rostralmiddlefrontal.vtk\n",
    "mv ./vtk/Untitled00061.vtk ./vtk/061_ctx-rh-superiorfrontal.vtk\n",
    "mv ./vtk/Untitled00062.vtk ./vtk/062_ctx-rh-superiorparietal.vtk\n",
    "mv ./vtk/Untitled00063.vtk ./vtk/063_ctx-rh-superiortemporal.vtk\n",
    "mv ./vtk/Untitled00064.vtk ./vtk/064_ctx-rh-supramarginal.vtk\n",
    "mv ./vtk/Untitled00065.vtk ./vtk/065_ctx-rh-frontalpole.vtk\n",
    "mv ./vtk/Untitled00066.vtk ./vtk/066_ctx-rh-temporalpole.vtk\n",
    "mv ./vtk/Untitled00067.vtk ./vtk/067_ctx-rh-transversetemporal.vtk\n",
    "mv ./vtk/Untitled00068.vtk ./vtk/068_ctx-rh-insula.vtk\n",
    "mv ./vtk/Untitled00069.vtk ./vtk/069_CC_Posterior.vtk\n",
    "mv ./vtk/Untitled00070.vtk ./vtk/070_CC_Mid_Posterior.vtk\n",
    "mv ./vtk/Untitled00071.vtk ./vtk/071_CC_Central.vtk\n",
    "mv ./vtk/Untitled00072.vtk ./vtk/072_CC_Mid_Anterior.vtk\n",
    "mv ./vtk/Untitled00073.vtk ./vtk/073_CC_Anterior.vtk"
   ]
  }
 ],
 "metadata": {
  "kernelspec": {
   "display_name": "Bash",
   "language": "bash",
   "name": "bash"
  },
  "language_info": {
   "codemirror_mode": "shell",
   "file_extension": ".sh",
   "mimetype": "text/x-sh",
   "name": "bash"
  },
  "toc": {
   "base_numbering": 1,
   "nav_menu": {},
   "number_sections": true,
   "sideBar": true,
   "skip_h1_title": true,
   "title_cell": "Table of Contents",
   "title_sidebar": "Contents",
   "toc_cell": true,
   "toc_position": {},
   "toc_section_display": true,
   "toc_window_display": false
  }
 },
 "nbformat": 4,
 "nbformat_minor": 5
}
