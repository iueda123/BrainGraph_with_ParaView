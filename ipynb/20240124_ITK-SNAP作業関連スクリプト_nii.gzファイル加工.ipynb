{
 "cells": [
  {
   "cell_type": "markdown",
   "id": "28da0ac8",
   "metadata": {
    "toc": true
   },
   "source": [
    "<h1>Table of Contents<span class=\"tocSkip\"></span></h1>\n",
    "<div class=\"toc\"><ul class=\"toc-item\"></ul></div>"
   ]
  },
  {
   "cell_type": "markdown",
   "id": "139afeb0",
   "metadata": {},
   "source": [
    "ITK-SNAPで効率よく作業するために、ribbon上にDKアトラスを重ねる。"
   ]
  },
  {
   "cell_type": "code",
   "execution_count": null,
   "id": "787aab97",
   "metadata": {},
   "outputs": [],
   "source": [
    "#input_image=./nii.gz/Rois_DK/005_ctx-lh-entorhinal.nii.gz\n",
    "#tmp_image=./all_0.nii.gz\n",
    "#tmp2_image=./all_10.nii.gz\n",
    "#output_image=./005_ctx-lh-entorhinal_10.nii.gz\n",
    "#fslmaths $input_image -mul 0 $tmp_image\n",
    "#fslmaths $tmp_image -add 10 $tmp2_image\n",
    "#fslmaths $input_image -mul $tmp2_image $output_image"
   ]
  },
  {
   "cell_type": "code",
   "execution_count": null,
   "id": "915b75e3",
   "metadata": {},
   "outputs": [],
   "source": []
  },
  {
   "cell_type": "code",
   "execution_count": 5,
   "id": "0e835b6e",
   "metadata": {
    "ExecuteTime": {
     "end_time": "2024-01-23T07:01:58.230978Z",
     "start_time": "2024-01-23T07:01:57.516402Z"
    }
   },
   "outputs": [],
   "source": [
    "# 信号値 100 のリボン\n",
    "fslmaths ./nii.gz/rh.ribbon.nii.gz -mul 100 ./nii.gz/rh.ribbon_100.nii.gz\n",
    "fslmaths ./nii.gz/lh.ribbon.nii.gz -mul 100 ./nii.gz/lh.ribbon_100.nii.gz"
   ]
  },
  {
   "cell_type": "code",
   "execution_count": 6,
   "id": "4efbcd03",
   "metadata": {
    "ExecuteTime": {
     "end_time": "2024-01-23T07:02:00.482062Z",
     "start_time": "2024-01-23T07:01:59.041660Z"
    }
   },
   "outputs": [],
   "source": [
    "# 穴だらけの DK_All.nii.gz に 信号値100のリボンを足す。\n",
    "input_image=./nii.gz/DK_All.nii.gz\n",
    "tmp_image=./DK_All_plus_rh_ribbon_100.nii.gz\n",
    "tmp2_image=./DK_All_plus_rh_lh_ribbon_100.nii.gz\n",
    "output_image=./nii.gz/DK_All_plus_ribbon.nii.gz\n",
    "#fslmaths $input_image -mul 0 $tmp_image\n",
    "fslmaths ./nii.gz/DK_All.nii.gz -add ./nii.gz/rh.ribbon_100.nii.gz /tmp/tmp.nii.gz\n",
    "fslmaths /tmp/tmp.nii.gz -add ./nii.gz/lh.ribbon_100.nii.gz ./nii.gz/DK_All_plus_100ribbon.nii.gz\n",
    "#fslmaths $input_image -mul $tmp2_image $output_image"
   ]
  },
  {
   "cell_type": "code",
   "execution_count": 7,
   "id": "082b66cd",
   "metadata": {
    "ExecuteTime": {
     "end_time": "2024-01-23T07:02:08.851876Z",
     "start_time": "2024-01-23T07:02:07.939809Z"
    }
   },
   "outputs": [],
   "source": [
    "## 信号値100の部分がempty area on the ribbon\n",
    "fslmaths ./nii.gz/DK_All_plus_100ribbon.nii.gz -thr 100 /tmp/tmp.nii.gz\n",
    "fslmaths /tmp/tmp.nii.gz -uthr 100 ./nii.gz/empty_area_on_the_ribbon.nii.gz"
   ]
  },
  {
   "cell_type": "code",
   "execution_count": 8,
   "id": "ca59ab35",
   "metadata": {
    "ExecuteTime": {
     "end_time": "2024-01-23T07:03:20.114967Z",
     "start_time": "2024-01-23T07:03:19.560006Z"
    }
   },
   "outputs": [],
   "source": [
    "fslmaths ./nii.gz/DK_All.nii.gz -add ./nii.gz/empty_area_on_the_ribbon.nii.gz ./nii.gz/DK_All_with_empty_ribbon.nii.gz"
   ]
  },
  {
   "cell_type": "markdown",
   "id": "ab064c86",
   "metadata": {},
   "source": [
    "はみ出しをカットするため作り直し"
   ]
  },
  {
   "cell_type": "code",
   "execution_count": 1,
   "id": "ed08831e",
   "metadata": {
    "ExecuteTime": {
     "end_time": "2024-01-23T09:30:02.880016Z",
     "start_time": "2024-01-23T09:30:02.356971Z"
    }
   },
   "outputs": [],
   "source": [
    "fslmaths ./nii.gz/lh.ribbon.nii.gz -add  ./nii.gz/rh.ribbon.nii.gz ./nii.gz/rh+lh.ribbon.nii.gz"
   ]
  },
  {
   "cell_type": "code",
   "execution_count": 2,
   "id": "6c1f5fa7",
   "metadata": {
    "ExecuteTime": {
     "end_time": "2024-01-23T09:32:36.615205Z",
     "start_time": "2024-01-23T09:32:36.002816Z"
    }
   },
   "outputs": [],
   "source": [
    "fslmaths ./nii.gz/Segmentations/DK_All.nii.gz -mul ./nii.gz/rh+lh.ribbon.nii.gz ./nii.gz/Segmentations/DK_on_ribbon.nii.gz"
   ]
  }
 ],
 "metadata": {
  "kernelspec": {
   "display_name": "Bash",
   "language": "bash",
   "name": "bash"
  },
  "language_info": {
   "codemirror_mode": "shell",
   "file_extension": ".sh",
   "mimetype": "text/x-sh",
   "name": "bash"
  },
  "toc": {
   "base_numbering": 1,
   "nav_menu": {},
   "number_sections": true,
   "sideBar": true,
   "skip_h1_title": true,
   "title_cell": "Table of Contents",
   "title_sidebar": "Contents",
   "toc_cell": true,
   "toc_position": {},
   "toc_section_display": true,
   "toc_window_display": false
  }
 },
 "nbformat": 4,
 "nbformat_minor": 5
}
