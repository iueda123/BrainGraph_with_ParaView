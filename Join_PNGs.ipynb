{
 "cells": [
  {
   "cell_type": "markdown",
   "id": "12e7d96f",
   "metadata": {
    "toc": true
   },
   "source": [
    "<h1>Table of Contents<span class=\"tocSkip\"></span></h1>\n",
    "<div class=\"toc\"><ul class=\"toc-item\"></ul></div>"
   ]
  },
  {
   "cell_type": "code",
   "execution_count": 4,
   "id": "fd29a147",
   "metadata": {
    "ExecuteTime": {
     "end_time": "2024-01-26T02:22:48.035610Z",
     "start_time": "2024-01-26T02:22:47.845303Z"
    },
    "code_folding": [
     2
    ],
    "scrolled": true
   },
   "outputs": [],
   "source": [
    "from PIL import Image\n",
    "\n",
    "def merge_two_images_horizontally(image1_path, image2_path, output_path):\n",
    "    # Open the images\n",
    "    img1 = Image.open(image1_path)\n",
    "    img2 = Image.open(image2_path)\n",
    "\n",
    "    # Get the size of the first image\n",
    "    width1, height1 = img1.size\n",
    "\n",
    "    # Get the size of the second image\n",
    "    width2, height2 = img2.size\n",
    "\n",
    "    # Ensure both images have the same height\n",
    "    if height1 != height2:\n",
    "        raise ValueError(\"Images must have the same height for horizontal merging.\")\n",
    "\n",
    "    # Calculate the new width\n",
    "    new_width = width1 + width2\n",
    "\n",
    "    # Create a new image with the calculated size\n",
    "    merged_image = Image.new(\"RGB\", (new_width, height1))\n",
    "\n",
    "    # Paste the first image on the left side\n",
    "    merged_image.paste(img1, (0, 0))\n",
    "\n",
    "    # Paste the second image on the right side\n",
    "    merged_image.paste(img2, (width1, 0))\n",
    "\n",
    "    # Save the result\n",
    "    merged_image.save(output_path)\n",
    "\n",
    "# Example usage:\n",
    "image1_path = '../png/Sample_Value_L_Med.png'\n",
    "image2_path = '../png/Sample_Value_L_Lat.png'\n",
    "output_path = '../png/Sample_Value_L_Med_Lat.png'\n",
    "\n",
    "merge_two_images_horizontally(image1_path, image2_path, output_path)\n"
   ]
  },
  {
   "cell_type": "code",
   "execution_count": null,
   "id": "448edb65",
   "metadata": {
    "code_folding": [
     2
    ]
   },
   "outputs": [],
   "source": [
    "from PIL import Image\n",
    "\n",
    "def merge_two_images_vertically(image1_path, image2_path, output_path):\n",
    "    # Open the images\n",
    "    img1 = Image.open(image1_path)\n",
    "    img2 = Image.open(image2_path)\n",
    "\n",
    "    # Get the size of the first image\n",
    "    width1, height1 = img1.size\n",
    "\n",
    "    # Get the size of the second image\n",
    "    width2, height2 = img2.size\n",
    "\n",
    "    # Ensure both images have the same width\n",
    "    if width1 != width2:\n",
    "        raise ValueError(\"Images must have the same width for vertical merging.\")\n",
    "\n",
    "    # Calculate the new height\n",
    "    new_height = height1 + height2\n",
    "\n",
    "    # Create a new image with the calculated size\n",
    "    merged_image = Image.new(\"RGB\", (width1, new_height))\n",
    "\n",
    "    # Paste the first image on the top\n",
    "    merged_image.paste(img1, (0, 0))\n",
    "\n",
    "    # Paste the second image below the first one\n",
    "    merged_image.paste(img2, (0, height1))\n",
    "\n",
    "    # Save the result\n",
    "    merged_image.save(output_path)\n",
    "\n",
    "# Example usage:\n",
    "image1_path = 'path/to/image1.png'\n",
    "image2_path = 'path/to/image2.png'\n",
    "output_path = 'path/to/output.png'\n",
    "\n",
    "merge_two_images_vertically(image1_path, image2_path, output_path)\n"
   ]
  },
  {
   "cell_type": "code",
   "execution_count": null,
   "id": "4e8ef511",
   "metadata": {
    "code_folding": [
     2
    ]
   },
   "outputs": [],
   "source": [
    "from PIL import Image\n",
    "\n",
    "def merge_four_images_horizontally(image_paths, output_path):\n",
    "    # Open the images\n",
    "    images = [Image.open(image_path) for image_path in image_paths]\n",
    "\n",
    "    # Get the size of the first image\n",
    "    width, height = images[0].size\n",
    "\n",
    "    # Ensure all images have the same height\n",
    "    if any(img.size[1] != height for img in images[1:]):\n",
    "        raise ValueError(\"All images must have the same height for horizontal merging.\")\n",
    "\n",
    "    # Calculate the new width\n",
    "    new_width = width * len(images)\n",
    "\n",
    "    # Create a new image with the calculated size\n",
    "    merged_image = Image.new(\"RGB\", (new_width, height))\n",
    "\n",
    "    # Paste each image side by side\n",
    "    for i, img in enumerate(images):\n",
    "        merged_image.paste(img, (i * width, 0))\n",
    "\n",
    "    # Save the result\n",
    "    merged_image.save(output_path)\n",
    "\n",
    "# Example usage:\n",
    "image_paths = ['path/to/image1.png', 'path/to/image2.png', 'path/to/image3.png', 'path/to/image4.png']\n",
    "output_path = 'path/to/output.png'\n",
    "\n",
    "merge_four_images_horizontally(image_paths, output_path)\n"
   ]
  },
  {
   "cell_type": "code",
   "execution_count": null,
   "id": "e78f828a",
   "metadata": {
    "code_folding": []
   },
   "outputs": [],
   "source": [
    "from PIL import Image\n",
    "\n",
    "def merge_four_images_vertically(image_paths, output_path):\n",
    "    # Open the images\n",
    "    images = [Image.open(image_path) for image_path in image_paths]\n",
    "\n",
    "    # Get the size of the first image\n",
    "    width, height = images[0].size\n",
    "\n",
    "    # Ensure all images have the same width\n",
    "    if any(img.size[0] != width for img in images[1:]):\n",
    "        raise ValueError(\"All images must have the same width for vertical merging.\")\n",
    "\n",
    "    # Calculate the new height\n",
    "    new_height = height * len(images)\n",
    "\n",
    "    # Create a new image with the calculated size\n",
    "    merged_image = Image.new(\"RGB\", (width, new_height))\n",
    "\n",
    "    # Paste each image one below the other\n",
    "    for i, img in enumerate(images):\n",
    "        merged_image.paste(img, (0, i * height))\n",
    "\n",
    "    # Save the result\n",
    "    merged_image.save(output_path)\n",
    "\n",
    "# Example usage:\n",
    "image_paths = ['path/to/image1.png', 'path/to/image2.png', 'path/to/image3.png', 'path/to/image4.png']\n",
    "output_path = 'path/to/output.png'\n",
    "\n",
    "merge_four_images_vertically(image_paths, output_path)\n"
   ]
  }
 ],
 "metadata": {
  "kernelspec": {
   "display_name": "Python 3",
   "language": "python",
   "name": "python3"
  },
  "language_info": {
   "codemirror_mode": {
    "name": "ipython",
    "version": 3
   },
   "file_extension": ".py",
   "mimetype": "text/x-python",
   "name": "python",
   "nbconvert_exporter": "python",
   "pygments_lexer": "ipython3",
   "version": "3.8.8"
  },
  "toc": {
   "base_numbering": 1,
   "nav_menu": {},
   "number_sections": true,
   "sideBar": true,
   "skip_h1_title": true,
   "title_cell": "Table of Contents",
   "title_sidebar": "Contents",
   "toc_cell": true,
   "toc_position": {},
   "toc_section_display": true,
   "toc_window_display": false
  }
 },
 "nbformat": 4,
 "nbformat_minor": 5
}
