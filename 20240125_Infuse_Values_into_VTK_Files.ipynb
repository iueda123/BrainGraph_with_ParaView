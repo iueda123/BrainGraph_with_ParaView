{
 "cells": [
  {
   "cell_type": "markdown",
   "id": "ce5305e2",
   "metadata": {
    "toc": true
   },
   "source": [
    "<h1>Table of Contents<span class=\"tocSkip\"></span></h1>\n",
    "<div class=\"toc\"><ul class=\"toc-item\"><li><span><a href=\"#Load-Settings\" data-toc-modified-id=\"Load-Settings-1\"><span class=\"toc-item-num\">1&nbsp;&nbsp;</span>Load Settings</a></span></li><li><span><a href=\"#Load-Tables\" data-toc-modified-id=\"Load-Tables-2\"><span class=\"toc-item-num\">2&nbsp;&nbsp;</span>Load Tables</a></span></li><li><span><a href=\"#Define-Functions\" data-toc-modified-id=\"Define-Functions-3\"><span class=\"toc-item-num\">3&nbsp;&nbsp;</span>Define Functions</a></span></li></ul></div>"
   ]
  },
  {
   "cell_type": "markdown",
   "id": "a7fb13c7",
   "metadata": {},
   "source": [
    "## Load Settings"
   ]
  },
  {
   "cell_type": "code",
   "execution_count": 1,
   "id": "38416246",
   "metadata": {
    "ExecuteTime": {
     "end_time": "2024-01-26T16:35:13.214190Z",
     "start_time": "2024-01-26T16:35:13.200598Z"
    }
   },
   "outputs": [
    {
     "name": "stdout",
     "output_type": "stream",
     "text": [
      "value_table_file: ./ValueTables/DKSurf_DivergingValues_TwoObject.tsv\n",
      "value_range_ul_on_value_table: 1.0\n",
      "value_range_ll_on_value_table: -1.0\n"
     ]
    }
   ],
   "source": [
    "import configparser\n",
    "# ConfigParserオブジェクトを作成\n",
    "config = configparser.ConfigParser()\n",
    "# ファイルを読み込む\n",
    "config.read('./config.ini', encoding='utf-8')\n",
    "\n",
    "# セクションとオプションから値を取得\n",
    "value_table_file = config.get('ForDebug', 'value_table_file')\n",
    "#value_type = config.get('ForDebug', 'value_type')\n",
    "value_range_ul_on_value_table = float( config.get('ForDebug', 'value_range_ul_on_value_table') )\n",
    "value_range_ll_on_value_table = float( config.get('ForDebug', 'value_range_ll_on_value_table') )\n",
    "if value_range_ul_on_value_table < value_range_ll_on_value_table: \n",
    "    tmp = value_range_ll_on_value_table\n",
    "    value_range_ll_on_value_table = value_range_ul_on_value_table\n",
    "    value_range_ul_on_value_table = tmp\n",
    "#value_range_ul_on_vtk_file = float( config.get('ForDebug', 'value_range_ul_on_vtk_file') )\n",
    "#value_range_ll_on_vtk_file = float( config.get('ForDebug', 'value_range_ll_on_vtk_file') )\n",
    "\n",
    "print(\"value_table_file: \" + value_table_file)\n",
    "#print(\"value_type: \" + value_type)\n",
    "print(\"value_range_ul_on_value_table: \" + str(value_range_ul_on_value_table))\n",
    "print(\"value_range_ll_on_value_table: \" + str(value_range_ll_on_value_table))\n",
    "#print(\"value_range_ul_on_vtk_file: \" + str(value_range_ul_on_vtk_file))\n",
    "#print(\"value_range_ll_on_vtk_file: \" + str(value_range_ll_on_vtk_file))"
   ]
  },
  {
   "cell_type": "markdown",
   "id": "55893c27",
   "metadata": {},
   "source": [
    "## Load Tables"
   ]
  },
  {
   "cell_type": "code",
   "execution_count": 2,
   "id": "67c4767d",
   "metadata": {
    "ExecuteTime": {
     "end_time": "2024-01-26T16:35:13.457792Z",
     "start_time": "2024-01-26T16:35:13.216051Z"
    }
   },
   "outputs": [],
   "source": [
    "import pandas as pd"
   ]
  },
  {
   "cell_type": "code",
   "execution_count": 3,
   "id": "c17dc184",
   "metadata": {
    "ExecuteTime": {
     "end_time": "2024-01-26T16:35:13.468936Z",
     "start_time": "2024-01-26T16:35:13.459616Z"
    }
   },
   "outputs": [
    {
     "name": "stdout",
     "output_type": "stream",
     "text": [
      "  OBJECT_LABEL     VALUE\n",
      "0   L_bankssts  0.602898\n",
      "1   R_bankssts  0.702898\n"
     ]
    }
   ],
   "source": [
    "#\n",
    "# Load \"OBJECT_LABEL-VALUE\" Tbale\n",
    "#\n",
    "#    OBJECT_LABEL: VtkfileTableと橋渡しするためのラベル\n",
    "#    VALUE: 各オブジェクトに与えたい値\n",
    "#\n",
    "\n",
    "df_value_table = pd.read_csv(value_table_file, header=None, names=['OBJECT_LABEL', 'VALUE'], sep=\"\\t\")\n",
    "print(df_value_table)"
   ]
  },
  {
   "cell_type": "code",
   "execution_count": 4,
   "id": "125dc508",
   "metadata": {
    "ExecuteTime": {
     "end_time": "2024-01-26T16:35:13.478802Z",
     "start_time": "2024-01-26T16:35:13.470649Z"
    }
   },
   "outputs": [
    {
     "name": "stdout",
     "output_type": "stream",
     "text": [
      "                 OBJECT_LABEL                                VTK_FILE\n",
      "0                  L_bankssts                 001_ctx-lh-bankssts.vtk\n",
      "1   L_caudalanteriorcingulate  002_ctx-lh-caudalanteriorcingulate.vtk\n",
      "2       L_caudalmiddlefrontal      003_ctx-lh-caudalmiddlefrontal.vtk\n",
      "3                    L_cuneus                   004_ctx-lh-cuneus.vtk\n",
      "4                L_entorhinal               005_ctx-lh-entorhinal.vtk\n",
      "..                        ...                                     ...\n",
      "86                   R_accumb            088_Right-Accumbens-area.vtk\n",
      "87                  L_LatVent                          Lt_LatVent.vtk\n",
      "88                  R_LatVent                          Rt_LatVent.vtk\n",
      "89                   L_Cortex                           Lt_ribbon.vtk\n",
      "90                   R_Cortex                           Rt_ribbon.vtk\n",
      "\n",
      "[91 rows x 2 columns]\n"
     ]
    }
   ],
   "source": [
    "#\n",
    "# Load \"OBJECT_LABEL-VTKFILE\" Table\n",
    "#\n",
    "#     OBJECT_LABEL: ValueTableと橋渡しするためのラベル\n",
    "#     VTK_FILE: ./vtk/without_val 下に存在するファイル\n",
    "#\n",
    "vtkfile_table_file = \"./VtkfileTable.tsv\"\n",
    "df_file_table = pd.read_csv(vtkfile_table_file, header=0, names=['OBJECT_LABEL', 'VTK_FILE'], sep=\"\\t\")\n",
    "print(df_file_table)"
   ]
  },
  {
   "cell_type": "markdown",
   "id": "041f5830",
   "metadata": {},
   "source": [
    "## Define Functions"
   ]
  },
  {
   "cell_type": "code",
   "execution_count": 5,
   "id": "dda9ceda",
   "metadata": {
    "ExecuteTime": {
     "end_time": "2024-01-26T16:35:13.497332Z",
     "start_time": "2024-01-26T16:35:13.480412Z"
    },
    "code_folding": []
   },
   "outputs": [],
   "source": [
    "#\n",
    "# Function for adding a value to the specified vtk file.\n",
    "#\n",
    "def infuseValueIntoAVtkFile(input_roi_vtk_file_path, output_destination, val_on_table, verbose):\n",
    "    print(\"------------------------ addValueToAVtkFile() has been called ------------------------\")\n",
    "    \n",
    "    print('input_roi_vtk_file_path: ' + input_roi_vtk_file_path)\n",
    "    \n",
    "    #\n",
    "    # === Preparing output destinations ===\n",
    "    #\n",
    "    print('output_destination: ' + output_destination)\n",
    "    \n",
    "    import pathlib\n",
    "    input_file_name = pathlib.Path(input_roi_vtk_file_path).name\n",
    "    input_file_parent =  pathlib.Path(input_roi_vtk_file_path).parent\n",
    "    ouput_file_path = \"./\" + str(pathlib.Path(output_destination)) + \"/\" +input_file_name\n",
    "    output_file_parent = pathlib.Path(ouput_file_path).parent\n",
    "    \n",
    "    import os\n",
    "    if not os.path.isfile(input_roi_vtk_file_path): \n",
    "        print(\"The input file does not exist. (do nothing)\")\n",
    "        return\n",
    "    \n",
    "    if output_file_parent == input_file_parent: \n",
    "        print(\"The parent of the specified output file is identical to the parent of the input file. Check arguments. (do nothing) \")\n",
    "        return\n",
    "    \n",
    "    if verbose == True:\n",
    "        print(\"input_file_name: \" + input_file_name)\n",
    "        print(\"ouput_file_path: \" + ouput_file_path)\n",
    "    \n",
    "    output_folder=os.path.dirname(ouput_file_path)\n",
    "    if  os.path.exists(output_folder): \n",
    "        print(\"    '\" + output_folder + \"' already exists.\")\n",
    "    else: \n",
    "        os.makedirs(output_folder, exist_ok=True)\n",
    "        print(\"    '\" + output_folder + \"' was created.\")\n",
    "    \n",
    "\n",
    "    # \n",
    "    # === Load A VTK File ===\n",
    "    #\n",
    "    input_file_path = input_roi_vtk_file_path\n",
    "\n",
    "    f = open(input_file_path)\n",
    "    lines = f.readlines() # 1行毎にファイル終端まで全て読む(改行文字も含まれる)\n",
    "    f.close()\n",
    "    \n",
    "    # lines: リスト。要素は1行の文字列データ\n",
    "    \n",
    "    if verbose == True:\n",
    "        for line in lines:\n",
    "            print(line, end=\"\")\n",
    "        print()\n",
    "    \n",
    "    #\n",
    "    # === Search the First Line of Data Field ===\n",
    "    #\n",
    "    start_line_num_of_data = 0\n",
    "    for line_num in range(1, len(lines)): \n",
    "        if \"NORMALS normals float\\n\" == lines[line_num]: \n",
    "            start_line_num_of_data = line_num + 1\n",
    "\n",
    "    print( \"The first line number of Data Field is \"  + str(start_line_num_of_data) )\n",
    "\n",
    "    if verbose == True:\n",
    "        print(\"The first line of Data Filed: \" + lines[start_line_num_of_data])\n",
    "        print()\n",
    "    \n",
    "    #\n",
    "    # === Add A Number to the Data Field ===\n",
    "    #\n",
    "    new_data_lines = [] \n",
    "    print(\"Now processing the line \", end=\"\")\n",
    "    infused_values = []\n",
    "    for line_num in range( start_line_num_of_data, len(lines)): \n",
    "        print( str(line_num) + \". \", end=\"\")\n",
    "        line_editing = lines[line_num]\n",
    "        line_editing = line_editing.rstrip('\\n')\n",
    "        values = line_editing.split(\" \")\n",
    "        #print(values)\n",
    "        values.remove('')\n",
    "        #print(values)\n",
    "        values = [float(i) for i in values]\n",
    "        #print(values)\n",
    "        new_values = []\n",
    "        \n",
    "        #############################################\n",
    "        # Sequential Values\n",
    "        # e.g.: 0〜+100; 0〜+1; 0〜+X\n",
    "        #\n",
    "        # Diverging Values\n",
    "        # e.g.: -1〜+1; -100〜+100; -X〜+X\n",
    "\n",
    "        # Qualitative Values\n",
    "        # e.g.: 1, 2, 3, 4, ...; 1, 3, 5, 7, ...; A, Y, Q, ...\n",
    "        if value_range_ul_on_value_table > 0 and value_range_ll_on_value_table < 0:\n",
    "            value_type = \"DIVERGING\"\n",
    "        else:\n",
    "            value_type = \"SEQUENTIAL\"\n",
    "        \n",
    "        if value_type == \"DIVERGING\": \n",
    "            base_range_on_value_table = value_range_ul_on_value_table - 0\n",
    "            fluctuation_factor = base_range_on_value_table / 5\n",
    "            for value in values: \n",
    "                new_value =  val_on_table + value * fluctuation_factor\n",
    "                new_values.append( new_value )\n",
    "            #base_range_on_value_table = (value_range_ul_on_value_table - 0)\n",
    "            #base_range_on_vtk_file = (value_range_ul_on_vtk_file - 0)\n",
    "            #fluctuation_factor = base_range_on_vtk_file / 5\n",
    "            #for value in values: \n",
    "            #    new_value =  ( (val_on_table/base_range_on_value_table) * base_range_on_vtk_file )  + 0 + ( value * fluctuation_factor)\n",
    "            #    new_values.append( new_value )\n",
    "        elif value_type == \"SEQUENTIAL\": \n",
    "            base_range_on_value_table = (value_range_ul_on_value_table - value_range_ll_on_value_table)\n",
    "            fluctuation_factor = base_range_on_value_table / 5\n",
    "            for value in values: \n",
    "                new_value =  val_on_table  + ( value * fluctuation_factor)\n",
    "                new_values.append( new_value )\n",
    "            #base_range_on_value_table = (value_range_ul_on_value_table - value_range_ll_on_value_table)\n",
    "            #base_range_on_vtk_file = value_range_ul_on_vtk_file - value_range_ll_on_vtk_file\n",
    "            #fluctuation_factor = base_range_on_vtk_file / 5\n",
    "            #for value in values: \n",
    "            #    new_value =  ( (val_on_table/base_range_on_value_table) * base_range_on_vtk_file ) + value_range_ll_on_vtk_file  + ( value * fluctuation_factor)\n",
    "            #    new_values.append( new_value )\n",
    "        elif value_type == \"QUALITAIVE\": \n",
    "            print(\"Error. Not yet coded.\")\n",
    "            import sys; sys.exit()\n",
    "        else: \n",
    "            print(\"Error. Please check 'value_type'.\")\n",
    "            import sys; sys.exit()\n",
    "        \n",
    "        #\n",
    "        # For Infused Value Check\n",
    "        #\n",
    "        #print(new_values)\n",
    "        #if len(new_values) > 1:\n",
    "        #    import statistics\n",
    "        #    print(str(statistics.mean(new_values)) + \"±\" + (str(statistics.stdev(new_values))) )\n",
    "        for new_value in new_values: \n",
    "            infused_values.append(new_value)\n",
    "            \n",
    "        #############################################\n",
    "        \n",
    "        new_values_str = [str(i) for i in new_values]\n",
    "        #new_values_str = new_values_str.append(\" \")\n",
    "        #new_values_str = new_values_str.append(\"\\n\")\n",
    "        new_values_str = ' '.join(new_values_str)\n",
    "        new_values_str = new_values_str + \" \\n\"\n",
    "        #print(new_values_str)\n",
    "        new_data_lines.append(new_values_str)\n",
    "        \n",
    "\n",
    "        \n",
    "    print(\"...done.\")\n",
    "    \n",
    "    if verbose == True:\n",
    "        print(\"\")\n",
    "        print(\"new_data_lines: \")\n",
    "        print(new_data_lines)\n",
    "        print(\"\")\n",
    "    \n",
    "    print()\n",
    "    \n",
    "    #\n",
    "    # === Output As A New File ===\n",
    "    #\n",
    "    print(\"Start output...\")\n",
    "    new_lines = []\n",
    "    new_lines.append('# vtk DataFile Version 4.0\\n')\n",
    "    for line_num in range(1, len(lines)): \n",
    "        #print(str(line_num) + \": \", end=\"\")\n",
    "        if line_num < start_line_num_of_data: \n",
    "            #print(lines[line_num])\n",
    "            new_lines.append(lines[line_num])\n",
    "        elif line_num >= start_line_num_of_data: \n",
    "            j = line_num - start_line_num_of_data\n",
    "            #print(new_data_lines[j])\n",
    "            new_lines.append(new_data_lines[j])\n",
    "    print(\"\")\n",
    "    \n",
    "    if verbose == True:\n",
    "        print(\"new_lines: \")\n",
    "        print(new_lines)\n",
    "        print()\n",
    "    \n",
    "    \n",
    "    with open(ouput_file_path, mode='w') as f:\n",
    "        f.writelines(new_lines)\n",
    "    \n",
    "    \n",
    "    import statistics\n",
    "    infused_value_stats = str(statistics.mean(infused_values)) + \"±\" + (str(statistics.stdev(infused_values)))\n",
    "    \n",
    "    \n",
    "    print(\"'\" + ouput_file_path + \"' was generated. (Infused Value: \" + infused_value_stats + \")\" )\n",
    "    print(\"--------------------------------------------------------------------------------------\")\n",
    "    print()\n",
    "    \n",
    "            \n",
    "#infuseValueIntoAVtkFile(\n",
    "#    input_roi_vtk_file_path=\"./vtk/Lt_Brain_NonCortical/074_Left-Thalamus.vtk\", \n",
    "#    output_destination=\"./vtk/Lt_Brain_NonCortical_with_Val\", \n",
    "#    val_on_table=10, verbose=True)"
   ]
  },
  {
   "cell_type": "code",
   "execution_count": 6,
   "id": "30d4179b",
   "metadata": {
    "ExecuteTime": {
     "end_time": "2024-01-26T16:35:13.520107Z",
     "start_time": "2024-01-26T16:35:13.498671Z"
    }
   },
   "outputs": [
    {
     "data": {
      "text/html": [
       "<div>\n",
       "<style scoped>\n",
       "    .dataframe tbody tr th:only-of-type {\n",
       "        vertical-align: middle;\n",
       "    }\n",
       "\n",
       "    .dataframe tbody tr th {\n",
       "        vertical-align: top;\n",
       "    }\n",
       "\n",
       "    .dataframe thead th {\n",
       "        text-align: right;\n",
       "    }\n",
       "</style>\n",
       "<table border=\"1\" class=\"dataframe\">\n",
       "  <thead>\n",
       "    <tr style=\"text-align: right;\">\n",
       "      <th></th>\n",
       "      <th>OBJECT_LABEL</th>\n",
       "      <th>VTK_FILE</th>\n",
       "      <th>VALUE</th>\n",
       "    </tr>\n",
       "  </thead>\n",
       "  <tbody>\n",
       "    <tr>\n",
       "      <th>0</th>\n",
       "      <td>L_bankssts</td>\n",
       "      <td>001_ctx-lh-bankssts.vtk</td>\n",
       "      <td>0.602898</td>\n",
       "    </tr>\n",
       "    <tr>\n",
       "      <th>1</th>\n",
       "      <td>R_bankssts</td>\n",
       "      <td>035_ctx-rh-bankssts.vtk</td>\n",
       "      <td>0.702898</td>\n",
       "    </tr>\n",
       "  </tbody>\n",
       "</table>\n",
       "</div>"
      ],
      "text/plain": [
       "  OBJECT_LABEL                 VTK_FILE     VALUE\n",
       "0   L_bankssts  001_ctx-lh-bankssts.vtk  0.602898\n",
       "1   R_bankssts  035_ctx-rh-bankssts.vtk  0.702898"
      ]
     },
     "execution_count": 6,
     "metadata": {},
     "output_type": "execute_result"
    }
   ],
   "source": [
    "#df_value_file_table = pd.merge(df_file_table, df_value_table, on=\"OBJECT_LABEL\", how=\"left\") #file_tableにあるもの\n",
    "df_value_file_table = pd.merge(df_file_table, df_value_table, on=\"OBJECT_LABEL\", how=\"right\") #value_tableにあるもの\n",
    "#df_value_file_table = pd.merge(df_file_table, df_value_table, on=\"OBJECT_LABEL\", how=\"outer\") #両方にあるものを把握\n",
    "df_value_file_table"
   ]
  },
  {
   "cell_type": "code",
   "execution_count": 7,
   "id": "54c8ae97",
   "metadata": {
    "ExecuteTime": {
     "end_time": "2024-01-26T16:35:13.793191Z",
     "start_time": "2024-01-26T16:35:13.522553Z"
    },
    "code_folding": []
   },
   "outputs": [
    {
     "name": "stdout",
     "output_type": "stream",
     "text": [
      "Infuse 0.602897737640887 into 001_ctx-lh-bankssts.vtk\n",
      "------------------------ addValueToAVtkFile() has been called ------------------------\n",
      "input_roi_vtk_file_path: ./vtk/without_val/001_ctx-lh-bankssts.vtk\n",
      "output_destination: ./vtk/with_val\n",
      "    './vtk/with_val' already exists.\n",
      "The first line number of Data Field is 1761\n",
      "Now processing the line 1761. 1762. 1763. 1764. 1765. 1766. 1767. 1768. 1769. 1770. 1771. 1772. 1773. 1774. 1775. 1776. 1777. 1778. 1779. 1780. 1781. 1782. 1783. 1784. 1785. 1786. 1787. 1788. 1789. 1790. 1791. 1792. 1793. 1794. 1795. 1796. 1797. 1798. 1799. 1800. 1801. 1802. 1803. 1804. 1805. 1806. 1807. 1808. 1809. 1810. 1811. 1812. 1813. 1814. 1815. 1816. 1817. 1818. 1819. 1820. 1821. 1822. 1823. 1824. 1825. 1826. 1827. 1828. 1829. 1830. 1831. 1832. 1833. 1834. 1835. 1836. 1837. 1838. 1839. 1840. 1841. 1842. 1843. 1844. 1845. 1846. 1847. 1848. 1849. 1850. 1851. 1852. 1853. 1854. 1855. 1856. 1857. 1858. 1859. 1860. 1861. 1862. 1863. 1864. 1865. 1866. 1867. 1868. 1869. 1870. 1871. 1872. 1873. 1874. 1875. 1876. 1877. 1878. 1879. 1880. 1881. 1882. 1883. 1884. 1885. 1886. 1887. 1888. 1889. 1890. 1891. 1892. 1893. 1894. 1895. 1896. 1897. 1898. 1899. 1900. 1901. 1902. 1903. 1904. 1905. 1906. 1907. 1908. 1909. 1910. 1911. 1912. 1913. 1914. 1915. 1916. 1917. 1918. 1919. 1920. 1921. 1922. 1923. 1924. 1925. 1926. 1927. 1928. 1929. 1930. 1931. 1932. 1933. 1934. 1935. 1936. 1937. 1938. 1939. 1940. 1941. 1942. 1943. 1944. 1945. 1946. 1947. 1948. 1949. 1950. 1951. 1952. 1953. 1954. 1955. 1956. 1957. 1958. 1959. 1960. 1961. 1962. 1963. 1964. 1965. 1966. 1967. 1968. 1969. 1970. 1971. 1972. 1973. 1974. 1975. 1976. 1977. 1978. 1979. 1980. 1981. 1982. 1983. 1984. 1985. 1986. 1987. 1988. 1989. 1990. 1991. 1992. 1993. 1994. 1995. 1996. 1997. 1998. 1999. 2000. 2001. 2002. 2003. 2004. 2005. 2006. 2007. 2008. 2009. 2010. 2011. 2012. 2013. 2014. 2015. 2016. 2017. 2018. 2019. 2020. 2021. 2022. 2023. 2024. 2025. 2026. 2027. 2028. 2029. 2030. 2031. 2032. 2033. 2034. 2035. 2036. 2037. 2038. 2039. 2040. 2041. 2042. 2043. 2044. 2045. 2046. 2047. 2048. 2049. 2050. 2051. 2052. 2053. 2054. 2055. 2056. 2057. 2058. 2059. 2060. 2061. 2062. 2063. 2064. 2065. 2066. 2067. 2068. 2069. 2070. 2071. 2072. 2073. 2074. 2075. 2076. 2077. 2078. 2079. 2080. 2081. 2082. 2083. 2084. 2085. 2086. 2087. 2088. 2089. 2090. 2091. 2092. 2093. 2094. 2095. 2096. 2097. 2098. 2099. 2100. 2101. 2102. 2103. 2104. 2105. 2106. 2107. 2108. 2109. 2110. 2111. 2112. 2113. 2114. 2115. 2116. 2117. 2118. 2119. 2120. 2121. 2122. 2123. 2124. 2125. 2126. 2127. 2128. 2129. 2130. 2131. 2132. 2133. 2134. 2135. 2136. 2137. 2138. 2139. 2140. 2141. 2142. 2143. 2144. 2145. 2146. 2147. 2148. 2149. 2150. 2151. 2152. 2153. 2154. 2155. 2156. 2157. 2158. 2159. 2160. 2161. 2162. 2163. 2164. 2165. 2166. 2167. 2168. 2169. 2170. 2171. 2172. 2173. 2174. 2175. 2176. 2177. 2178. 2179. 2180. 2181. 2182. 2183. 2184. 2185. 2186. 2187. 2188. 2189. 2190. 2191. 2192. 2193. 2194. 2195. 2196. 2197. 2198. 2199. 2200. 2201. 2202. 2203. 2204. 2205. 2206. 2207. 2208. 2209. 2210. 2211. 2212. 2213. 2214. 2215. 2216. 2217. 2218. 2219. 2220. 2221. 2222. 2223. 2224. 2225. 2226. 2227. 2228. 2229. 2230. 2231. 2232. 2233. 2234. 2235. 2236. 2237. 2238. 2239. 2240. 2241. 2242. 2243. 2244. 2245. 2246. 2247. 2248. 2249. 2250. 2251. 2252. 2253. 2254. 2255. 2256. 2257. 2258. 2259. 2260. 2261. 2262. 2263. 2264. 2265. 2266. 2267. 2268. 2269. 2270. 2271. 2272. 2273. 2274. 2275. 2276. 2277. 2278. 2279. 2280. 2281. 2282. 2283. 2284. 2285. 2286. 2287. 2288. 2289. 2290. 2291. 2292. 2293. 2294. 2295. 2296. 2297. 2298. 2299. 2300. 2301. 2302. 2303. 2304. 2305. 2306. 2307. 2308. 2309. 2310. 2311. 2312. 2313. 2314. 2315. 2316. 2317. 2318. 2319. 2320. 2321. 2322. 2323. 2324. 2325. 2326. 2327. 2328. 2329. 2330. 2331. 2332. 2333. 2334. 2335. 2336. 2337. 2338. 2339. 2340. 2341. 2342. 2343. 2344. 2345. 2346. 2347. 2348. 2349. 2350. 2351. 2352. 2353. 2354. 2355. 2356. 2357. 2358. 2359. 2360. 2361. 2362. 2363. 2364. 2365. 2366. 2367. 2368. 2369. 2370. 2371. 2372. 2373. 2374. 2375. 2376. 2377. 2378. 2379. 2380. 2381. 2382. 2383. 2384. 2385. 2386. 2387. 2388. 2389. 2390. 2391. 2392. 2393. 2394. 2395. 2396. 2397. 2398. 2399. 2400. 2401. 2402. 2403. 2404. 2405. 2406. 2407. 2408. 2409. 2410. 2411. 2412. 2413. 2414. 2415. 2416. 2417. 2418. 2419. 2420. 2421. 2422. 2423. 2424. 2425. 2426. 2427. 2428. 2429. 2430. 2431. 2432. 2433. 2434. 2435. 2436. 2437. 2438. 2439. 2440. 2441. 2442. 2443. 2444. 2445. 2446. 2447. 2448. 2449. 2450. 2451. 2452. 2453. 2454. 2455. 2456. 2457. 2458. 2459. 2460. 2461. 2462. 2463. 2464. 2465. 2466. 2467. 2468. 2469. 2470. 2471. 2472. 2473. 2474. 2475. 2476. 2477. 2478. 2479. 2480. 2481. 2482. 2483. 2484. 2485. 2486. 2487. 2488. 2489. 2490. 2491. 2492. 2493. 2494. 2495. 2496. 2497. 2498. 2499. 2500. 2501. 2502. 2503. 2504. 2505. 2506. 2507. 2508. 2509. 2510. 2511. 2512. 2513. 2514. 2515. 2516. 2517. 2518. 2519. 2520. 2521. 2522. 2523. 2524. 2525. 2526. 2527. 2528. 2529. 2530. 2531. 2532. 2533. 2534. 2535. 2536. 2537. 2538. 2539. 2540. 2541. 2542. 2543. 2544. 2545. 2546. 2547. 2548. 2549. 2550. 2551. 2552. 2553. 2554. 2555. 2556. 2557. 2558. 2559. 2560. 2561. 2562. 2563. 2564. 2565. 2566. 2567. 2568. 2569. 2570. 2571. 2572. 2573. 2574. 2575. 2576. 2577. 2578. 2579. 2580. 2581. 2582. 2583. 2584. 2585. 2586. 2587. 2588. 2589. 2590. 2591. 2592. 2593. 2594. 2595. ...done.\n",
      "\n",
      "Start output...\n",
      "\n",
      "'./vtk/with_val/001_ctx-lh-bankssts.vtk' was generated. (Infused Value: 0.6041787860327602±0.1154706409029405)\n",
      "--------------------------------------------------------------------------------------\n",
      "\n",
      "Infuse 0.702897737640887 into 035_ctx-rh-bankssts.vtk\n",
      "------------------------ addValueToAVtkFile() has been called ------------------------\n",
      "input_roi_vtk_file_path: ./vtk/without_val/035_ctx-rh-bankssts.vtk\n",
      "output_destination: ./vtk/with_val\n",
      "    './vtk/with_val' already exists.\n",
      "The first line number of Data Field is 1604\n"
     ]
    },
    {
     "name": "stdout",
     "output_type": "stream",
     "text": [
      "Now processing the line 1604. 1605. 1606. 1607. 1608. 1609. 1610. 1611. 1612. 1613. 1614. 1615. 1616. 1617. 1618. 1619. 1620. 1621. 1622. 1623. 1624. 1625. 1626. 1627. 1628. 1629. 1630. 1631. 1632. 1633. 1634. 1635. 1636. 1637. 1638. 1639. 1640. 1641. 1642. 1643. 1644. 1645. 1646. 1647. 1648. 1649. 1650. 1651. 1652. 1653. 1654. 1655. 1656. 1657. 1658. 1659. 1660. 1661. 1662. 1663. 1664. 1665. 1666. 1667. 1668. 1669. 1670. 1671. 1672. 1673. 1674. 1675. 1676. 1677. 1678. 1679. 1680. 1681. 1682. 1683. 1684. 1685. 1686. 1687. 1688. 1689. 1690. 1691. 1692. 1693. 1694. 1695. 1696. 1697. 1698. 1699. 1700. 1701. 1702. 1703. 1704. 1705. 1706. 1707. 1708. 1709. 1710. 1711. 1712. 1713. 1714. 1715. 1716. 1717. 1718. 1719. 1720. 1721. 1722. 1723. 1724. 1725. 1726. 1727. 1728. 1729. 1730. 1731. 1732. 1733. 1734. 1735. 1736. 1737. 1738. 1739. 1740. 1741. 1742. 1743. 1744. 1745. 1746. 1747. 1748. 1749. 1750. 1751. 1752. 1753. 1754. 1755. 1756. 1757. 1758. 1759. 1760. 1761. 1762. 1763. 1764. 1765. 1766. 1767. 1768. 1769. 1770. 1771. 1772. 1773. 1774. 1775. 1776. 1777. 1778. 1779. 1780. 1781. 1782. 1783. 1784. 1785. 1786. 1787. 1788. 1789. 1790. 1791. 1792. 1793. 1794. 1795. 1796. 1797. 1798. 1799. 1800. 1801. 1802. 1803. 1804. 1805. 1806. 1807. 1808. 1809. 1810. 1811. 1812. 1813. 1814. 1815. 1816. 1817. 1818. 1819. 1820. 1821. 1822. 1823. 1824. 1825. 1826. 1827. 1828. 1829. 1830. 1831. 1832. 1833. 1834. 1835. 1836. 1837. 1838. 1839. 1840. 1841. 1842. 1843. 1844. 1845. 1846. 1847. 1848. 1849. 1850. 1851. 1852. 1853. 1854. 1855. 1856. 1857. 1858. 1859. 1860. 1861. 1862. 1863. 1864. 1865. 1866. 1867. 1868. 1869. 1870. 1871. 1872. 1873. 1874. 1875. 1876. 1877. 1878. 1879. 1880. 1881. 1882. 1883. 1884. 1885. 1886. 1887. 1888. 1889. 1890. 1891. 1892. 1893. 1894. 1895. 1896. 1897. 1898. 1899. 1900. 1901. 1902. 1903. 1904. 1905. 1906. 1907. 1908. 1909. 1910. 1911. 1912. 1913. 1914. 1915. 1916. 1917. 1918. 1919. 1920. 1921. 1922. 1923. 1924. 1925. 1926. 1927. 1928. 1929. 1930. 1931. 1932. 1933. 1934. 1935. 1936. 1937. 1938. 1939. 1940. 1941. 1942. 1943. 1944. 1945. 1946. 1947. 1948. 1949. 1950. 1951. 1952. 1953. 1954. 1955. 1956. 1957. 1958. 1959. 1960. 1961. 1962. 1963. 1964. 1965. 1966. 1967. 1968. 1969. 1970. 1971. 1972. 1973. 1974. 1975. 1976. 1977. 1978. 1979. 1980. 1981. 1982. 1983. 1984. 1985. 1986. 1987. 1988. 1989. 1990. 1991. 1992. 1993. 1994. 1995. 1996. 1997. 1998. 1999. 2000. 2001. 2002. 2003. 2004. 2005. 2006. 2007. 2008. 2009. 2010. 2011. 2012. 2013. 2014. 2015. 2016. 2017. 2018. 2019. 2020. 2021. 2022. 2023. 2024. 2025. 2026. 2027. 2028. 2029. 2030. 2031. 2032. 2033. 2034. 2035. 2036. 2037. 2038. 2039. 2040. 2041. 2042. 2043. 2044. 2045. 2046. 2047. 2048. 2049. 2050. 2051. 2052. 2053. 2054. 2055. 2056. 2057. 2058. 2059. 2060. 2061. 2062. 2063. 2064. 2065. 2066. 2067. 2068. 2069. 2070. 2071. 2072. 2073. 2074. 2075. 2076. 2077. 2078. 2079. 2080. 2081. 2082. 2083. 2084. 2085. 2086. 2087. 2088. 2089. 2090. 2091. 2092. 2093. 2094. 2095. 2096. 2097. 2098. 2099. 2100. 2101. 2102. 2103. 2104. 2105. 2106. 2107. 2108. 2109. 2110. 2111. 2112. 2113. 2114. 2115. 2116. 2117. 2118. 2119. 2120. 2121. 2122. 2123. 2124. 2125. 2126. 2127. 2128. 2129. 2130. 2131. 2132. 2133. 2134. 2135. 2136. 2137. 2138. 2139. 2140. 2141. 2142. 2143. 2144. 2145. 2146. 2147. 2148. 2149. 2150. 2151. 2152. 2153. 2154. 2155. 2156. 2157. 2158. 2159. 2160. 2161. 2162. 2163. 2164. 2165. 2166. 2167. 2168. 2169. 2170. 2171. 2172. 2173. 2174. 2175. 2176. 2177. 2178. 2179. 2180. 2181. 2182. 2183. 2184. 2185. 2186. 2187. 2188. 2189. 2190. 2191. 2192. 2193. 2194. 2195. 2196. 2197. 2198. 2199. 2200. 2201. 2202. 2203. 2204. 2205. 2206. 2207. 2208. 2209. 2210. 2211. 2212. 2213. 2214. 2215. 2216. 2217. 2218. 2219. 2220. 2221. 2222. 2223. 2224. 2225. 2226. 2227. 2228. 2229. 2230. 2231. 2232. 2233. 2234. 2235. 2236. 2237. 2238. 2239. 2240. 2241. 2242. 2243. 2244. 2245. 2246. 2247. 2248. 2249. 2250. 2251. 2252. 2253. 2254. 2255. 2256. 2257. 2258. 2259. 2260. 2261. 2262. 2263. 2264. 2265. 2266. 2267. 2268. 2269. 2270. 2271. 2272. 2273. 2274. 2275. 2276. 2277. 2278. 2279. 2280. 2281. 2282. 2283. 2284. 2285. 2286. 2287. 2288. 2289. 2290. 2291. 2292. 2293. 2294. 2295. 2296. 2297. 2298. 2299. 2300. 2301. 2302. 2303. 2304. 2305. 2306. 2307. 2308. 2309. 2310. 2311. 2312. 2313. 2314. 2315. 2316. 2317. 2318. 2319. 2320. 2321. 2322. 2323. 2324. 2325. 2326. 2327. 2328. 2329. 2330. 2331. 2332. 2333. 2334. 2335. 2336. 2337. 2338. 2339. 2340. 2341. 2342. 2343. 2344. 2345. 2346. 2347. 2348. 2349. 2350. 2351. 2352. 2353. 2354. 2355. 2356. 2357. 2358. 2359. 2360. 2361. 2362. 2363. 2364. 2365. 2366. 2367. 2368. 2369. 2370. 2371. 2372. 2373. 2374. 2375. 2376. 2377. 2378. 2379. 2380. 2381. ...done.\n",
      "\n",
      "Start output...\n",
      "\n",
      "'./vtk/with_val/035_ctx-rh-bankssts.vtk' was generated. (Infused Value: 0.7015938148816498±0.1154709457282268)\n",
      "--------------------------------------------------------------------------------------\n",
      "\n"
     ]
    }
   ],
   "source": [
    "#\n",
    "# Infuse Values into Vtk Files\n",
    "# \n",
    "src_vtk_folder = \"./vtk/without_val\"\n",
    "dest_vtk_folder = \"./vtk/with_val\"\n",
    "\n",
    "import os\n",
    "if os.path.isdir(dest_vtk_folder): \n",
    "    import shutil\n",
    "    shutil.rmtree(dest_vtk_folder)\n",
    "    os.mkdir(dest_vtk_folder)\n",
    "\n",
    "for r in range(0, len(df_value_file_table)):\n",
    "    #print(r)\n",
    "    dest_vtk_file = df_value_file_table[\"VTK_FILE\"][r]\n",
    "    obj_val = df_value_file_table[\"VALUE\"][r]\n",
    "    print(\"Infuse \" + str(obj_val) + \" into \" + dest_vtk_file)\n",
    "    infuseValueIntoAVtkFile(\n",
    "        input_roi_vtk_file_path=src_vtk_folder + \"/\" + dest_vtk_file, \n",
    "        output_destination=dest_vtk_folder, \n",
    "        val_on_table=obj_val, verbose=False)"
   ]
  }
 ],
 "metadata": {
  "kernelspec": {
   "display_name": "Python 3",
   "language": "python",
   "name": "python3"
  },
  "language_info": {
   "codemirror_mode": {
    "name": "ipython",
    "version": 3
   },
   "file_extension": ".py",
   "mimetype": "text/x-python",
   "name": "python",
   "nbconvert_exporter": "python",
   "pygments_lexer": "ipython3",
   "version": "3.8.8"
  },
  "toc": {
   "base_numbering": 1,
   "nav_menu": {},
   "number_sections": true,
   "sideBar": true,
   "skip_h1_title": true,
   "title_cell": "Table of Contents",
   "title_sidebar": "Contents",
   "toc_cell": true,
   "toc_position": {},
   "toc_section_display": true,
   "toc_window_display": false
  }
 },
 "nbformat": 4,
 "nbformat_minor": 5
}
